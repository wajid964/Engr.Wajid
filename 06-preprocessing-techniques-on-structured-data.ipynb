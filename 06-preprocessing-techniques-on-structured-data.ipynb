{
 "cells": [
  {
   "cell_type": "markdown",
   "id": "fa48e85c",
   "metadata": {
    "papermill": {
     "duration": 0.014736,
     "end_time": "2022-09-23T18:49:24.345401",
     "exception": false,
     "start_time": "2022-09-23T18:49:24.330665",
     "status": "completed"
    },
    "tags": []
   },
   "source": [
    "<h1> <center> 06 </center> </h1> "
   ]
  },
  {
   "cell_type": "markdown",
   "id": "c81ba3cd",
   "metadata": {
    "papermill": {
     "duration": 0.014776,
     "end_time": "2022-09-23T18:49:24.373892",
     "exception": false,
     "start_time": "2022-09-23T18:49:24.359116",
     "status": "completed"
    },
    "tags": []
   },
   "source": [
    "*Objective** : Data Preprocessing techniques on structured data\n",
    "- Students will learn to prepare raw dataset for Data Mining process\n",
    "1. Managing dataset Attributes\n",
    "2. Imputing Missing Values\n",
    "3. Handling inappropriate data types\n",
    "4. Remove Duplicate samples from the dataset\n",
    "5. Scale the dataset"
   ]
  },
  {
   "cell_type": "code",
   "execution_count": 1,
   "id": "ab7db3a8",
   "metadata": {
    "execution": {
     "iopub.execute_input": "2022-09-23T18:49:24.403066Z",
     "iopub.status.busy": "2022-09-23T18:49:24.402158Z",
     "iopub.status.idle": "2022-09-23T18:49:24.414023Z",
     "shell.execute_reply": "2022-09-23T18:49:24.413093Z"
    },
    "papermill": {
     "duration": 0.028848,
     "end_time": "2022-09-23T18:49:24.416176",
     "exception": false,
     "start_time": "2022-09-23T18:49:24.387328",
     "status": "completed"
    },
    "tags": []
   },
   "outputs": [],
   "source": [
    "import pandas as pd\n",
    "import numpy as np\n",
    "import matplotlib.pyplot as plt"
   ]
  },
  {
   "cell_type": "code",
   "execution_count": 2,
   "id": "9d1d7b8d",
   "metadata": {
    "execution": {
     "iopub.execute_input": "2022-09-23T18:49:24.445353Z",
     "iopub.status.busy": "2022-09-23T18:49:24.444675Z",
     "iopub.status.idle": "2022-09-23T18:49:24.516173Z",
     "shell.execute_reply": "2022-09-23T18:49:24.514889Z"
    },
    "papermill": {
     "duration": 0.090176,
     "end_time": "2022-09-23T18:49:24.519942",
     "exception": false,
     "start_time": "2022-09-23T18:49:24.429766",
     "status": "completed"
    },
    "tags": []
   },
   "outputs": [
    {
     "name": "stdout",
     "output_type": "stream",
     "text": [
      "Length of Fortune500 dataset is \" 25500 \" samples\n",
      "\n"
     ]
    },
    {
     "data": {
      "text/html": [
       "<div>\n",
       "<style scoped>\n",
       "    .dataframe tbody tr th:only-of-type {\n",
       "        vertical-align: middle;\n",
       "    }\n",
       "\n",
       "    .dataframe tbody tr th {\n",
       "        vertical-align: top;\n",
       "    }\n",
       "\n",
       "    .dataframe thead th {\n",
       "        text-align: right;\n",
       "    }\n",
       "</style>\n",
       "<table border=\"1\" class=\"dataframe\">\n",
       "  <thead>\n",
       "    <tr style=\"text-align: right;\">\n",
       "      <th></th>\n",
       "      <th>Year</th>\n",
       "      <th>Rank</th>\n",
       "      <th>Company</th>\n",
       "      <th>Revenue (in millions)</th>\n",
       "      <th>Profit (in millions)</th>\n",
       "    </tr>\n",
       "  </thead>\n",
       "  <tbody>\n",
       "    <tr>\n",
       "      <th>0</th>\n",
       "      <td>1955</td>\n",
       "      <td>1</td>\n",
       "      <td>General Motors</td>\n",
       "      <td>9823.5</td>\n",
       "      <td>806</td>\n",
       "    </tr>\n",
       "    <tr>\n",
       "      <th>1</th>\n",
       "      <td>1955</td>\n",
       "      <td>2</td>\n",
       "      <td>Exxon Mobil</td>\n",
       "      <td>5661.4</td>\n",
       "      <td>584.8</td>\n",
       "    </tr>\n",
       "    <tr>\n",
       "      <th>2</th>\n",
       "      <td>1955</td>\n",
       "      <td>3</td>\n",
       "      <td>U.S. Steel</td>\n",
       "      <td>3250.4</td>\n",
       "      <td>195.4</td>\n",
       "    </tr>\n",
       "    <tr>\n",
       "      <th>3</th>\n",
       "      <td>1955</td>\n",
       "      <td>4</td>\n",
       "      <td>General Electric</td>\n",
       "      <td>2959.1</td>\n",
       "      <td>212.6</td>\n",
       "    </tr>\n",
       "    <tr>\n",
       "      <th>4</th>\n",
       "      <td>1955</td>\n",
       "      <td>5</td>\n",
       "      <td>Esmark</td>\n",
       "      <td>2510.8</td>\n",
       "      <td>19.1</td>\n",
       "    </tr>\n",
       "  </tbody>\n",
       "</table>\n",
       "</div>"
      ],
      "text/plain": [
       "   Year  Rank           Company  Revenue (in millions) Profit (in millions)\n",
       "0  1955     1    General Motors                 9823.5                  806\n",
       "1  1955     2       Exxon Mobil                 5661.4                584.8\n",
       "2  1955     3        U.S. Steel                 3250.4                195.4\n",
       "3  1955     4  General Electric                 2959.1                212.6\n",
       "4  1955     5            Esmark                 2510.8                 19.1"
      ]
     },
     "execution_count": 2,
     "metadata": {},
     "output_type": "execute_result"
    }
   ],
   "source": [
    "df = pd.read_csv('../input/fortune500-19552005/fortune500.csv')\n",
    "print('Length of Fortune500 dataset is \"', len(df), '\" samples')\n",
    "print()\n",
    "df.head()"
   ]
  },
  {
   "cell_type": "code",
   "execution_count": 3,
   "id": "fa7731dd",
   "metadata": {
    "execution": {
     "iopub.execute_input": "2022-09-23T18:49:24.549595Z",
     "iopub.status.busy": "2022-09-23T18:49:24.548843Z",
     "iopub.status.idle": "2022-09-23T18:49:24.553620Z",
     "shell.execute_reply": "2022-09-23T18:49:24.552765Z"
    },
    "papermill": {
     "duration": 0.022328,
     "end_time": "2022-09-23T18:49:24.555950",
     "exception": false,
     "start_time": "2022-09-23T18:49:24.533622",
     "status": "completed"
    },
    "tags": []
   },
   "outputs": [],
   "source": [
    "# df[:499]"
   ]
  },
  {
   "cell_type": "markdown",
   "id": "8e279507",
   "metadata": {
    "papermill": {
     "duration": 0.01328,
     "end_time": "2022-09-23T18:49:24.583239",
     "exception": false,
     "start_time": "2022-09-23T18:49:24.569959",
     "status": "completed"
    },
    "tags": []
   },
   "source": [
    "## 1. Managing dataset Attributes"
   ]
  },
  {
   "cell_type": "code",
   "execution_count": 4,
   "id": "087546d1",
   "metadata": {
    "execution": {
     "iopub.execute_input": "2022-09-23T18:49:24.612119Z",
     "iopub.status.busy": "2022-09-23T18:49:24.611763Z",
     "iopub.status.idle": "2022-09-23T18:49:24.617952Z",
     "shell.execute_reply": "2022-09-23T18:49:24.616959Z"
    },
    "papermill": {
     "duration": 0.024627,
     "end_time": "2022-09-23T18:49:24.621438",
     "exception": false,
     "start_time": "2022-09-23T18:49:24.596811",
     "status": "completed"
    },
    "tags": []
   },
   "outputs": [
    {
     "data": {
      "text/plain": [
       "Index(['Year', 'Rank', 'Company', 'Revenue (in millions)',\n",
       "       'Profit (in millions)'],\n",
       "      dtype='object')"
      ]
     },
     "execution_count": 4,
     "metadata": {},
     "output_type": "execute_result"
    }
   ],
   "source": [
    "df.columns"
   ]
  },
  {
   "cell_type": "code",
   "execution_count": 5,
   "id": "2451fd78",
   "metadata": {
    "execution": {
     "iopub.execute_input": "2022-09-23T18:49:24.656157Z",
     "iopub.status.busy": "2022-09-23T18:49:24.655762Z",
     "iopub.status.idle": "2022-09-23T18:49:24.670779Z",
     "shell.execute_reply": "2022-09-23T18:49:24.669284Z"
    },
    "papermill": {
     "duration": 0.034064,
     "end_time": "2022-09-23T18:49:24.673213",
     "exception": false,
     "start_time": "2022-09-23T18:49:24.639149",
     "status": "completed"
    },
    "tags": []
   },
   "outputs": [
    {
     "data": {
      "text/html": [
       "<div>\n",
       "<style scoped>\n",
       "    .dataframe tbody tr th:only-of-type {\n",
       "        vertical-align: middle;\n",
       "    }\n",
       "\n",
       "    .dataframe tbody tr th {\n",
       "        vertical-align: top;\n",
       "    }\n",
       "\n",
       "    .dataframe thead th {\n",
       "        text-align: right;\n",
       "    }\n",
       "</style>\n",
       "<table border=\"1\" class=\"dataframe\">\n",
       "  <thead>\n",
       "    <tr style=\"text-align: right;\">\n",
       "      <th></th>\n",
       "      <th>year</th>\n",
       "      <th>rank</th>\n",
       "      <th>company</th>\n",
       "      <th>revenue</th>\n",
       "      <th>profit</th>\n",
       "    </tr>\n",
       "  </thead>\n",
       "  <tbody>\n",
       "    <tr>\n",
       "      <th>0</th>\n",
       "      <td>1955</td>\n",
       "      <td>1</td>\n",
       "      <td>General Motors</td>\n",
       "      <td>9823.5</td>\n",
       "      <td>806</td>\n",
       "    </tr>\n",
       "    <tr>\n",
       "      <th>1</th>\n",
       "      <td>1955</td>\n",
       "      <td>2</td>\n",
       "      <td>Exxon Mobil</td>\n",
       "      <td>5661.4</td>\n",
       "      <td>584.8</td>\n",
       "    </tr>\n",
       "  </tbody>\n",
       "</table>\n",
       "</div>"
      ],
      "text/plain": [
       "   year  rank         company  revenue profit\n",
       "0  1955     1  General Motors   9823.5    806\n",
       "1  1955     2     Exxon Mobil   5661.4  584.8"
      ]
     },
     "execution_count": 5,
     "metadata": {},
     "output_type": "execute_result"
    }
   ],
   "source": [
    "# To Rename the Columns\n",
    "df.columns = ['year', 'rank', 'company', 'revenue', 'profit']\n",
    "df.head(2)"
   ]
  },
  {
   "cell_type": "markdown",
   "id": "a005c28d",
   "metadata": {
    "papermill": {
     "duration": 0.016988,
     "end_time": "2022-09-23T18:49:24.707864",
     "exception": false,
     "start_time": "2022-09-23T18:49:24.690876",
     "status": "completed"
    },
    "tags": []
   },
   "source": [
    "#### To rename a single column"
   ]
  },
  {
   "cell_type": "code",
   "execution_count": 6,
   "id": "293f7ed3",
   "metadata": {
    "execution": {
     "iopub.execute_input": "2022-09-23T18:49:24.738605Z",
     "iopub.status.busy": "2022-09-23T18:49:24.737505Z",
     "iopub.status.idle": "2022-09-23T18:49:24.754188Z",
     "shell.execute_reply": "2022-09-23T18:49:24.752774Z"
    },
    "papermill": {
     "duration": 0.034029,
     "end_time": "2022-09-23T18:49:24.756382",
     "exception": false,
     "start_time": "2022-09-23T18:49:24.722353",
     "status": "completed"
    },
    "tags": []
   },
   "outputs": [
    {
     "data": {
      "text/html": [
       "<div>\n",
       "<style scoped>\n",
       "    .dataframe tbody tr th:only-of-type {\n",
       "        vertical-align: middle;\n",
       "    }\n",
       "\n",
       "    .dataframe tbody tr th {\n",
       "        vertical-align: top;\n",
       "    }\n",
       "\n",
       "    .dataframe thead th {\n",
       "        text-align: right;\n",
       "    }\n",
       "</style>\n",
       "<table border=\"1\" class=\"dataframe\">\n",
       "  <thead>\n",
       "    <tr style=\"text-align: right;\">\n",
       "      <th></th>\n",
       "      <th>year</th>\n",
       "      <th>rank</th>\n",
       "      <th>company</th>\n",
       "      <th>revenue</th>\n",
       "      <th>pf</th>\n",
       "    </tr>\n",
       "  </thead>\n",
       "  <tbody>\n",
       "    <tr>\n",
       "      <th>0</th>\n",
       "      <td>1955</td>\n",
       "      <td>1</td>\n",
       "      <td>General Motors</td>\n",
       "      <td>9823.5</td>\n",
       "      <td>806</td>\n",
       "    </tr>\n",
       "    <tr>\n",
       "      <th>1</th>\n",
       "      <td>1955</td>\n",
       "      <td>2</td>\n",
       "      <td>Exxon Mobil</td>\n",
       "      <td>5661.4</td>\n",
       "      <td>584.8</td>\n",
       "    </tr>\n",
       "  </tbody>\n",
       "</table>\n",
       "</div>"
      ],
      "text/plain": [
       "   year  rank         company  revenue     pf\n",
       "0  1955     1  General Motors   9823.5    806\n",
       "1  1955     2     Exxon Mobil   5661.4  584.8"
      ]
     },
     "execution_count": 6,
     "metadata": {},
     "output_type": "execute_result"
    }
   ],
   "source": [
    "# to rename a single column\n",
    "df.rename(columns={'profit':'pf'}, inplace=True)\n",
    "df.head(2)"
   ]
  },
  {
   "cell_type": "code",
   "execution_count": 7,
   "id": "5646f91f",
   "metadata": {
    "execution": {
     "iopub.execute_input": "2022-09-23T18:49:24.785949Z",
     "iopub.status.busy": "2022-09-23T18:49:24.785425Z",
     "iopub.status.idle": "2022-09-23T18:49:24.803203Z",
     "shell.execute_reply": "2022-09-23T18:49:24.801988Z"
    },
    "papermill": {
     "duration": 0.03648,
     "end_time": "2022-09-23T18:49:24.806672",
     "exception": false,
     "start_time": "2022-09-23T18:49:24.770192",
     "status": "completed"
    },
    "tags": []
   },
   "outputs": [
    {
     "data": {
      "text/html": [
       "<div>\n",
       "<style scoped>\n",
       "    .dataframe tbody tr th:only-of-type {\n",
       "        vertical-align: middle;\n",
       "    }\n",
       "\n",
       "    .dataframe tbody tr th {\n",
       "        vertical-align: top;\n",
       "    }\n",
       "\n",
       "    .dataframe thead th {\n",
       "        text-align: right;\n",
       "    }\n",
       "</style>\n",
       "<table border=\"1\" class=\"dataframe\">\n",
       "  <thead>\n",
       "    <tr style=\"text-align: right;\">\n",
       "      <th></th>\n",
       "      <th>year</th>\n",
       "      <th>rank</th>\n",
       "      <th>company</th>\n",
       "      <th>revenue</th>\n",
       "      <th>profit</th>\n",
       "    </tr>\n",
       "  </thead>\n",
       "  <tbody>\n",
       "    <tr>\n",
       "      <th>0</th>\n",
       "      <td>1955</td>\n",
       "      <td>1</td>\n",
       "      <td>General Motors</td>\n",
       "      <td>9823.5</td>\n",
       "      <td>806</td>\n",
       "    </tr>\n",
       "  </tbody>\n",
       "</table>\n",
       "</div>"
      ],
      "text/plain": [
       "   year  rank         company  revenue profit\n",
       "0  1955     1  General Motors   9823.5    806"
      ]
     },
     "execution_count": 7,
     "metadata": {},
     "output_type": "execute_result"
    }
   ],
   "source": [
    "# revert back the attributes\n",
    "df.rename(columns={'pf':'profit'}, inplace=True)\n",
    "df.head(1)"
   ]
  },
  {
   "cell_type": "code",
   "execution_count": 8,
   "id": "4da849e1",
   "metadata": {
    "execution": {
     "iopub.execute_input": "2022-09-23T18:49:24.841221Z",
     "iopub.status.busy": "2022-09-23T18:49:24.840393Z",
     "iopub.status.idle": "2022-09-23T18:49:24.847457Z",
     "shell.execute_reply": "2022-09-23T18:49:24.846474Z"
    },
    "papermill": {
     "duration": 0.027114,
     "end_time": "2022-09-23T18:49:24.849493",
     "exception": false,
     "start_time": "2022-09-23T18:49:24.822379",
     "status": "completed"
    },
    "tags": []
   },
   "outputs": [
    {
     "data": {
      "text/plain": [
       "Index(['year', 'rank', 'company', 'revenue', 'profit'], dtype='object')"
      ]
     },
     "execution_count": 8,
     "metadata": {},
     "output_type": "execute_result"
    }
   ],
   "source": [
    "df.columns"
   ]
  },
  {
   "cell_type": "markdown",
   "id": "cac06c99",
   "metadata": {
    "papermill": {
     "duration": 0.014131,
     "end_time": "2022-09-23T18:49:24.878340",
     "exception": false,
     "start_time": "2022-09-23T18:49:24.864209",
     "status": "completed"
    },
    "tags": []
   },
   "source": [
    "## 2. Handling Missing Values in Structured Data\n",
    "- Most of the Machine Learning Algorithms cannot work with missing values in the features"
   ]
  },
  {
   "cell_type": "code",
   "execution_count": 9,
   "id": "c4d97ab4",
   "metadata": {
    "execution": {
     "iopub.execute_input": "2022-09-23T18:49:24.911403Z",
     "iopub.status.busy": "2022-09-23T18:49:24.911002Z",
     "iopub.status.idle": "2022-09-23T18:49:24.917673Z",
     "shell.execute_reply": "2022-09-23T18:49:24.916529Z"
    },
    "papermill": {
     "duration": 0.027172,
     "end_time": "2022-09-23T18:49:24.919938",
     "exception": false,
     "start_time": "2022-09-23T18:49:24.892766",
     "status": "completed"
    },
    "tags": []
   },
   "outputs": [
    {
     "data": {
      "text/plain": [
       "['lab06-demo-dataset', 'fortune500-19552005']"
      ]
     },
     "execution_count": 9,
     "metadata": {},
     "output_type": "execute_result"
    }
   ],
   "source": [
    "import os\n",
    "os.listdir('/kaggle/input')"
   ]
  },
  {
   "cell_type": "code",
   "execution_count": 10,
   "id": "fa6d4b1a",
   "metadata": {
    "execution": {
     "iopub.execute_input": "2022-09-23T18:49:24.950127Z",
     "iopub.status.busy": "2022-09-23T18:49:24.949350Z",
     "iopub.status.idle": "2022-09-23T18:49:24.972517Z",
     "shell.execute_reply": "2022-09-23T18:49:24.971424Z"
    },
    "papermill": {
     "duration": 0.040633,
     "end_time": "2022-09-23T18:49:24.974703",
     "exception": false,
     "start_time": "2022-09-23T18:49:24.934070",
     "status": "completed"
    },
    "tags": []
   },
   "outputs": [
    {
     "data": {
      "text/html": [
       "<div>\n",
       "<style scoped>\n",
       "    .dataframe tbody tr th:only-of-type {\n",
       "        vertical-align: middle;\n",
       "    }\n",
       "\n",
       "    .dataframe tbody tr th {\n",
       "        vertical-align: top;\n",
       "    }\n",
       "\n",
       "    .dataframe thead th {\n",
       "        text-align: right;\n",
       "    }\n",
       "</style>\n",
       "<table border=\"1\" class=\"dataframe\">\n",
       "  <thead>\n",
       "    <tr style=\"text-align: right;\">\n",
       "      <th></th>\n",
       "      <th>first</th>\n",
       "      <th>second</th>\n",
       "      <th>third</th>\n",
       "      <th>fourth</th>\n",
       "      <th>fifth</th>\n",
       "      <th>sixth</th>\n",
       "    </tr>\n",
       "  </thead>\n",
       "  <tbody>\n",
       "    <tr>\n",
       "      <th>0</th>\n",
       "      <td>10.0</td>\n",
       "      <td>100.0</td>\n",
       "      <td>200</td>\n",
       "      <td>NaN</td>\n",
       "      <td>400.0</td>\n",
       "      <td>500</td>\n",
       "    </tr>\n",
       "    <tr>\n",
       "      <th>1</th>\n",
       "      <td>11.0</td>\n",
       "      <td>102.0</td>\n",
       "      <td>203</td>\n",
       "      <td>305.0</td>\n",
       "      <td>410.0</td>\n",
       "      <td>505</td>\n",
       "    </tr>\n",
       "    <tr>\n",
       "      <th>2</th>\n",
       "      <td>NaN</td>\n",
       "      <td>104.0</td>\n",
       "      <td>210</td>\n",
       "      <td>308.0</td>\n",
       "      <td>414.0</td>\n",
       "      <td>514</td>\n",
       "    </tr>\n",
       "    <tr>\n",
       "      <th>3</th>\n",
       "      <td>13.0</td>\n",
       "      <td>110.0</td>\n",
       "      <td>202</td>\n",
       "      <td>313.0</td>\n",
       "      <td>NaN</td>\n",
       "      <td>520</td>\n",
       "    </tr>\n",
       "    <tr>\n",
       "      <th>4</th>\n",
       "      <td>12.0</td>\n",
       "      <td>NaN</td>\n",
       "      <td>207</td>\n",
       "      <td>300.0</td>\n",
       "      <td>400.0</td>\n",
       "      <td>500</td>\n",
       "    </tr>\n",
       "    <tr>\n",
       "      <th>5</th>\n",
       "      <td>15.0</td>\n",
       "      <td>100.0</td>\n",
       "      <td>210</td>\n",
       "      <td>305.0</td>\n",
       "      <td>408.0</td>\n",
       "      <td>520</td>\n",
       "    </tr>\n",
       "    <tr>\n",
       "      <th>6</th>\n",
       "      <td>20.0</td>\n",
       "      <td>118.0</td>\n",
       "      <td>212</td>\n",
       "      <td>325.0</td>\n",
       "      <td>417.0</td>\n",
       "      <td>535</td>\n",
       "    </tr>\n",
       "    <tr>\n",
       "      <th>7</th>\n",
       "      <td>21.0</td>\n",
       "      <td>121.0</td>\n",
       "      <td>222</td>\n",
       "      <td>333.0</td>\n",
       "      <td>444.0</td>\n",
       "      <td>555</td>\n",
       "    </tr>\n",
       "    <tr>\n",
       "      <th>8</th>\n",
       "      <td>20.0</td>\n",
       "      <td>118.0</td>\n",
       "      <td>212</td>\n",
       "      <td>325.0</td>\n",
       "      <td>417.0</td>\n",
       "      <td>535</td>\n",
       "    </tr>\n",
       "    <tr>\n",
       "      <th>9</th>\n",
       "      <td>21.0</td>\n",
       "      <td>121.0</td>\n",
       "      <td>222</td>\n",
       "      <td>333.0</td>\n",
       "      <td>444.0</td>\n",
       "      <td>555</td>\n",
       "    </tr>\n",
       "  </tbody>\n",
       "</table>\n",
       "</div>"
      ],
      "text/plain": [
       "   first  second  third  fourth  fifth  sixth\n",
       "0   10.0   100.0    200     NaN  400.0    500\n",
       "1   11.0   102.0    203   305.0  410.0    505\n",
       "2    NaN   104.0    210   308.0  414.0    514\n",
       "3   13.0   110.0    202   313.0    NaN    520\n",
       "4   12.0     NaN    207   300.0  400.0    500\n",
       "5   15.0   100.0    210   305.0  408.0    520\n",
       "6   20.0   118.0    212   325.0  417.0    535\n",
       "7   21.0   121.0    222   333.0  444.0    555\n",
       "8   20.0   118.0    212   325.0  417.0    535\n",
       "9   21.0   121.0    222   333.0  444.0    555"
      ]
     },
     "execution_count": 10,
     "metadata": {},
     "output_type": "execute_result"
    }
   ],
   "source": [
    "# read in sample data\n",
    "dfnew = pd.read_csv('../input/lab06-demo-dataset/lab06_data.txt', sep=',')\n",
    "dfnew"
   ]
  },
  {
   "cell_type": "code",
   "execution_count": 11,
   "id": "c816e9f4",
   "metadata": {
    "execution": {
     "iopub.execute_input": "2022-09-23T18:49:25.008658Z",
     "iopub.status.busy": "2022-09-23T18:49:25.008278Z",
     "iopub.status.idle": "2022-09-23T18:49:25.017273Z",
     "shell.execute_reply": "2022-09-23T18:49:25.015971Z"
    },
    "papermill": {
     "duration": 0.029593,
     "end_time": "2022-09-23T18:49:25.019395",
     "exception": false,
     "start_time": "2022-09-23T18:49:24.989802",
     "status": "completed"
    },
    "tags": []
   },
   "outputs": [
    {
     "name": "stdout",
     "output_type": "stream",
     "text": [
      "10\n",
      "\n",
      "first     1\n",
      "second    1\n",
      "third     0\n",
      "fourth    1\n",
      "fifth     1\n",
      "sixth     0\n",
      "dtype: int64\n"
     ]
    }
   ],
   "source": [
    "print(len(dfnew))\n",
    "print()\n",
    "print(dfnew.isnull().sum())"
   ]
  },
  {
   "cell_type": "markdown",
   "id": "0eec6aa9",
   "metadata": {
    "papermill": {
     "duration": 0.016621,
     "end_time": "2022-09-23T18:49:25.057549",
     "exception": false,
     "start_time": "2022-09-23T18:49:25.040928",
     "status": "completed"
    },
    "tags": []
   },
   "source": [
    "#### Method 01: Drop all those data samples having Missing values"
   ]
  },
  {
   "cell_type": "markdown",
   "id": "bc0ec388",
   "metadata": {
    "papermill": {
     "duration": 0.015205,
     "end_time": "2022-09-23T18:49:25.088247",
     "exception": false,
     "start_time": "2022-09-23T18:49:25.073042",
     "status": "completed"
    },
    "tags": []
   },
   "source": [
    "##### Droping row(s)"
   ]
  },
  {
   "cell_type": "code",
   "execution_count": 12,
   "id": "36948bd9",
   "metadata": {
    "execution": {
     "iopub.execute_input": "2022-09-23T18:49:25.118426Z",
     "iopub.status.busy": "2022-09-23T18:49:25.117650Z",
     "iopub.status.idle": "2022-09-23T18:49:25.137107Z",
     "shell.execute_reply": "2022-09-23T18:49:25.136022Z"
    },
    "papermill": {
     "duration": 0.036925,
     "end_time": "2022-09-23T18:49:25.139208",
     "exception": false,
     "start_time": "2022-09-23T18:49:25.102283",
     "status": "completed"
    },
    "tags": []
   },
   "outputs": [
    {
     "data": {
      "text/html": [
       "<div>\n",
       "<style scoped>\n",
       "    .dataframe tbody tr th:only-of-type {\n",
       "        vertical-align: middle;\n",
       "    }\n",
       "\n",
       "    .dataframe tbody tr th {\n",
       "        vertical-align: top;\n",
       "    }\n",
       "\n",
       "    .dataframe thead th {\n",
       "        text-align: right;\n",
       "    }\n",
       "</style>\n",
       "<table border=\"1\" class=\"dataframe\">\n",
       "  <thead>\n",
       "    <tr style=\"text-align: right;\">\n",
       "      <th></th>\n",
       "      <th>first</th>\n",
       "      <th>second</th>\n",
       "      <th>third</th>\n",
       "      <th>fourth</th>\n",
       "      <th>fifth</th>\n",
       "      <th>sixth</th>\n",
       "    </tr>\n",
       "  </thead>\n",
       "  <tbody>\n",
       "    <tr>\n",
       "      <th>1</th>\n",
       "      <td>11.0</td>\n",
       "      <td>102.0</td>\n",
       "      <td>203</td>\n",
       "      <td>305.0</td>\n",
       "      <td>410.0</td>\n",
       "      <td>505</td>\n",
       "    </tr>\n",
       "    <tr>\n",
       "      <th>2</th>\n",
       "      <td>NaN</td>\n",
       "      <td>104.0</td>\n",
       "      <td>210</td>\n",
       "      <td>308.0</td>\n",
       "      <td>414.0</td>\n",
       "      <td>514</td>\n",
       "    </tr>\n",
       "    <tr>\n",
       "      <th>3</th>\n",
       "      <td>13.0</td>\n",
       "      <td>110.0</td>\n",
       "      <td>202</td>\n",
       "      <td>313.0</td>\n",
       "      <td>NaN</td>\n",
       "      <td>520</td>\n",
       "    </tr>\n",
       "    <tr>\n",
       "      <th>4</th>\n",
       "      <td>12.0</td>\n",
       "      <td>NaN</td>\n",
       "      <td>207</td>\n",
       "      <td>300.0</td>\n",
       "      <td>400.0</td>\n",
       "      <td>500</td>\n",
       "    </tr>\n",
       "    <tr>\n",
       "      <th>5</th>\n",
       "      <td>15.0</td>\n",
       "      <td>100.0</td>\n",
       "      <td>210</td>\n",
       "      <td>305.0</td>\n",
       "      <td>408.0</td>\n",
       "      <td>520</td>\n",
       "    </tr>\n",
       "    <tr>\n",
       "      <th>6</th>\n",
       "      <td>20.0</td>\n",
       "      <td>118.0</td>\n",
       "      <td>212</td>\n",
       "      <td>325.0</td>\n",
       "      <td>417.0</td>\n",
       "      <td>535</td>\n",
       "    </tr>\n",
       "    <tr>\n",
       "      <th>7</th>\n",
       "      <td>21.0</td>\n",
       "      <td>121.0</td>\n",
       "      <td>222</td>\n",
       "      <td>333.0</td>\n",
       "      <td>444.0</td>\n",
       "      <td>555</td>\n",
       "    </tr>\n",
       "    <tr>\n",
       "      <th>8</th>\n",
       "      <td>20.0</td>\n",
       "      <td>118.0</td>\n",
       "      <td>212</td>\n",
       "      <td>325.0</td>\n",
       "      <td>417.0</td>\n",
       "      <td>535</td>\n",
       "    </tr>\n",
       "    <tr>\n",
       "      <th>9</th>\n",
       "      <td>21.0</td>\n",
       "      <td>121.0</td>\n",
       "      <td>222</td>\n",
       "      <td>333.0</td>\n",
       "      <td>444.0</td>\n",
       "      <td>555</td>\n",
       "    </tr>\n",
       "  </tbody>\n",
       "</table>\n",
       "</div>"
      ],
      "text/plain": [
       "   first  second  third  fourth  fifth  sixth\n",
       "1   11.0   102.0    203   305.0  410.0    505\n",
       "2    NaN   104.0    210   308.0  414.0    514\n",
       "3   13.0   110.0    202   313.0    NaN    520\n",
       "4   12.0     NaN    207   300.0  400.0    500\n",
       "5   15.0   100.0    210   305.0  408.0    520\n",
       "6   20.0   118.0    212   325.0  417.0    535\n",
       "7   21.0   121.0    222   333.0  444.0    555\n",
       "8   20.0   118.0    212   325.0  417.0    535\n",
       "9   21.0   121.0    222   333.0  444.0    555"
      ]
     },
     "execution_count": 12,
     "metadata": {},
     "output_type": "execute_result"
    }
   ],
   "source": [
    "dfnew.dropna(subset=['fourth'], inplace=True)\n",
    "dfnew"
   ]
  },
  {
   "cell_type": "code",
   "execution_count": 13,
   "id": "7c8532be",
   "metadata": {
    "execution": {
     "iopub.execute_input": "2022-09-23T18:49:25.170272Z",
     "iopub.status.busy": "2022-09-23T18:49:25.169479Z",
     "iopub.status.idle": "2022-09-23T18:49:25.176067Z",
     "shell.execute_reply": "2022-09-23T18:49:25.175143Z"
    },
    "papermill": {
     "duration": 0.024409,
     "end_time": "2022-09-23T18:49:25.178108",
     "exception": false,
     "start_time": "2022-09-23T18:49:25.153699",
     "status": "completed"
    },
    "tags": []
   },
   "outputs": [
    {
     "data": {
      "text/plain": [
       "9"
      ]
     },
     "execution_count": 13,
     "metadata": {},
     "output_type": "execute_result"
    }
   ],
   "source": [
    "len(dfnew)"
   ]
  },
  {
   "cell_type": "code",
   "execution_count": 14,
   "id": "c7e417ca",
   "metadata": {
    "execution": {
     "iopub.execute_input": "2022-09-23T18:49:25.210292Z",
     "iopub.status.busy": "2022-09-23T18:49:25.209529Z",
     "iopub.status.idle": "2022-09-23T18:49:25.226638Z",
     "shell.execute_reply": "2022-09-23T18:49:25.225762Z"
    },
    "papermill": {
     "duration": 0.035136,
     "end_time": "2022-09-23T18:49:25.228785",
     "exception": false,
     "start_time": "2022-09-23T18:49:25.193649",
     "status": "completed"
    },
    "tags": []
   },
   "outputs": [
    {
     "data": {
      "text/html": [
       "<div>\n",
       "<style scoped>\n",
       "    .dataframe tbody tr th:only-of-type {\n",
       "        vertical-align: middle;\n",
       "    }\n",
       "\n",
       "    .dataframe tbody tr th {\n",
       "        vertical-align: top;\n",
       "    }\n",
       "\n",
       "    .dataframe thead th {\n",
       "        text-align: right;\n",
       "    }\n",
       "</style>\n",
       "<table border=\"1\" class=\"dataframe\">\n",
       "  <thead>\n",
       "    <tr style=\"text-align: right;\">\n",
       "      <th></th>\n",
       "      <th>first</th>\n",
       "      <th>second</th>\n",
       "      <th>third</th>\n",
       "      <th>fourth</th>\n",
       "      <th>fifth</th>\n",
       "      <th>sixth</th>\n",
       "    </tr>\n",
       "  </thead>\n",
       "  <tbody>\n",
       "    <tr>\n",
       "      <th>1</th>\n",
       "      <td>11.0</td>\n",
       "      <td>102.0</td>\n",
       "      <td>203</td>\n",
       "      <td>305.0</td>\n",
       "      <td>410.0</td>\n",
       "      <td>505</td>\n",
       "    </tr>\n",
       "    <tr>\n",
       "      <th>5</th>\n",
       "      <td>15.0</td>\n",
       "      <td>100.0</td>\n",
       "      <td>210</td>\n",
       "      <td>305.0</td>\n",
       "      <td>408.0</td>\n",
       "      <td>520</td>\n",
       "    </tr>\n",
       "    <tr>\n",
       "      <th>6</th>\n",
       "      <td>20.0</td>\n",
       "      <td>118.0</td>\n",
       "      <td>212</td>\n",
       "      <td>325.0</td>\n",
       "      <td>417.0</td>\n",
       "      <td>535</td>\n",
       "    </tr>\n",
       "    <tr>\n",
       "      <th>7</th>\n",
       "      <td>21.0</td>\n",
       "      <td>121.0</td>\n",
       "      <td>222</td>\n",
       "      <td>333.0</td>\n",
       "      <td>444.0</td>\n",
       "      <td>555</td>\n",
       "    </tr>\n",
       "    <tr>\n",
       "      <th>8</th>\n",
       "      <td>20.0</td>\n",
       "      <td>118.0</td>\n",
       "      <td>212</td>\n",
       "      <td>325.0</td>\n",
       "      <td>417.0</td>\n",
       "      <td>535</td>\n",
       "    </tr>\n",
       "    <tr>\n",
       "      <th>9</th>\n",
       "      <td>21.0</td>\n",
       "      <td>121.0</td>\n",
       "      <td>222</td>\n",
       "      <td>333.0</td>\n",
       "      <td>444.0</td>\n",
       "      <td>555</td>\n",
       "    </tr>\n",
       "  </tbody>\n",
       "</table>\n",
       "</div>"
      ],
      "text/plain": [
       "   first  second  third  fourth  fifth  sixth\n",
       "1   11.0   102.0    203   305.0  410.0    505\n",
       "5   15.0   100.0    210   305.0  408.0    520\n",
       "6   20.0   118.0    212   325.0  417.0    535\n",
       "7   21.0   121.0    222   333.0  444.0    555\n",
       "8   20.0   118.0    212   325.0  417.0    535\n",
       "9   21.0   121.0    222   333.0  444.0    555"
      ]
     },
     "execution_count": 14,
     "metadata": {},
     "output_type": "execute_result"
    }
   ],
   "source": [
    "dfnew.dropna(inplace=True)\n",
    "dfnew"
   ]
  },
  {
   "cell_type": "code",
   "execution_count": 15,
   "id": "11a8c6b8",
   "metadata": {
    "execution": {
     "iopub.execute_input": "2022-09-23T18:49:25.261292Z",
     "iopub.status.busy": "2022-09-23T18:49:25.260530Z",
     "iopub.status.idle": "2022-09-23T18:49:25.266990Z",
     "shell.execute_reply": "2022-09-23T18:49:25.265562Z"
    },
    "papermill": {
     "duration": 0.026694,
     "end_time": "2022-09-23T18:49:25.270687",
     "exception": false,
     "start_time": "2022-09-23T18:49:25.243993",
     "status": "completed"
    },
    "tags": []
   },
   "outputs": [
    {
     "name": "stdout",
     "output_type": "stream",
     "text": [
      "New length of the dataset after dropping missing values:  6\n"
     ]
    }
   ],
   "source": [
    "print(\"New length of the dataset after dropping missing values: \", len(dfnew))"
   ]
  },
  {
   "cell_type": "markdown",
   "id": "2f3c926b",
   "metadata": {
    "papermill": {
     "duration": 0.015142,
     "end_time": "2022-09-23T18:49:25.301804",
     "exception": false,
     "start_time": "2022-09-23T18:49:25.286662",
     "status": "completed"
    },
    "tags": []
   },
   "source": [
    "##### Droping column(s)"
   ]
  },
  {
   "cell_type": "code",
   "execution_count": 16,
   "id": "47c0f7ce",
   "metadata": {
    "execution": {
     "iopub.execute_input": "2022-09-23T18:49:25.334799Z",
     "iopub.status.busy": "2022-09-23T18:49:25.334352Z",
     "iopub.status.idle": "2022-09-23T18:49:25.351888Z",
     "shell.execute_reply": "2022-09-23T18:49:25.350770Z"
    },
    "papermill": {
     "duration": 0.036884,
     "end_time": "2022-09-23T18:49:25.354231",
     "exception": false,
     "start_time": "2022-09-23T18:49:25.317347",
     "status": "completed"
    },
    "tags": []
   },
   "outputs": [
    {
     "data": {
      "text/html": [
       "<div>\n",
       "<style scoped>\n",
       "    .dataframe tbody tr th:only-of-type {\n",
       "        vertical-align: middle;\n",
       "    }\n",
       "\n",
       "    .dataframe tbody tr th {\n",
       "        vertical-align: top;\n",
       "    }\n",
       "\n",
       "    .dataframe thead th {\n",
       "        text-align: right;\n",
       "    }\n",
       "</style>\n",
       "<table border=\"1\" class=\"dataframe\">\n",
       "  <thead>\n",
       "    <tr style=\"text-align: right;\">\n",
       "      <th></th>\n",
       "      <th>first</th>\n",
       "      <th>second</th>\n",
       "      <th>third</th>\n",
       "      <th>fourth</th>\n",
       "      <th>fifth</th>\n",
       "      <th>sixth</th>\n",
       "    </tr>\n",
       "  </thead>\n",
       "  <tbody>\n",
       "    <tr>\n",
       "      <th>0</th>\n",
       "      <td>10.0</td>\n",
       "      <td>100.0</td>\n",
       "      <td>200</td>\n",
       "      <td>NaN</td>\n",
       "      <td>400.0</td>\n",
       "      <td>500</td>\n",
       "    </tr>\n",
       "    <tr>\n",
       "      <th>1</th>\n",
       "      <td>11.0</td>\n",
       "      <td>102.0</td>\n",
       "      <td>203</td>\n",
       "      <td>305.0</td>\n",
       "      <td>410.0</td>\n",
       "      <td>505</td>\n",
       "    </tr>\n",
       "    <tr>\n",
       "      <th>2</th>\n",
       "      <td>NaN</td>\n",
       "      <td>104.0</td>\n",
       "      <td>210</td>\n",
       "      <td>308.0</td>\n",
       "      <td>414.0</td>\n",
       "      <td>514</td>\n",
       "    </tr>\n",
       "    <tr>\n",
       "      <th>3</th>\n",
       "      <td>13.0</td>\n",
       "      <td>110.0</td>\n",
       "      <td>202</td>\n",
       "      <td>313.0</td>\n",
       "      <td>NaN</td>\n",
       "      <td>520</td>\n",
       "    </tr>\n",
       "    <tr>\n",
       "      <th>4</th>\n",
       "      <td>12.0</td>\n",
       "      <td>NaN</td>\n",
       "      <td>207</td>\n",
       "      <td>300.0</td>\n",
       "      <td>400.0</td>\n",
       "      <td>500</td>\n",
       "    </tr>\n",
       "    <tr>\n",
       "      <th>5</th>\n",
       "      <td>15.0</td>\n",
       "      <td>100.0</td>\n",
       "      <td>210</td>\n",
       "      <td>305.0</td>\n",
       "      <td>408.0</td>\n",
       "      <td>520</td>\n",
       "    </tr>\n",
       "    <tr>\n",
       "      <th>6</th>\n",
       "      <td>20.0</td>\n",
       "      <td>118.0</td>\n",
       "      <td>212</td>\n",
       "      <td>325.0</td>\n",
       "      <td>417.0</td>\n",
       "      <td>535</td>\n",
       "    </tr>\n",
       "    <tr>\n",
       "      <th>7</th>\n",
       "      <td>21.0</td>\n",
       "      <td>121.0</td>\n",
       "      <td>222</td>\n",
       "      <td>333.0</td>\n",
       "      <td>444.0</td>\n",
       "      <td>555</td>\n",
       "    </tr>\n",
       "    <tr>\n",
       "      <th>8</th>\n",
       "      <td>20.0</td>\n",
       "      <td>118.0</td>\n",
       "      <td>212</td>\n",
       "      <td>325.0</td>\n",
       "      <td>417.0</td>\n",
       "      <td>535</td>\n",
       "    </tr>\n",
       "    <tr>\n",
       "      <th>9</th>\n",
       "      <td>21.0</td>\n",
       "      <td>121.0</td>\n",
       "      <td>222</td>\n",
       "      <td>333.0</td>\n",
       "      <td>444.0</td>\n",
       "      <td>555</td>\n",
       "    </tr>\n",
       "  </tbody>\n",
       "</table>\n",
       "</div>"
      ],
      "text/plain": [
       "   first  second  third  fourth  fifth  sixth\n",
       "0   10.0   100.0    200     NaN  400.0    500\n",
       "1   11.0   102.0    203   305.0  410.0    505\n",
       "2    NaN   104.0    210   308.0  414.0    514\n",
       "3   13.0   110.0    202   313.0    NaN    520\n",
       "4   12.0     NaN    207   300.0  400.0    500\n",
       "5   15.0   100.0    210   305.0  408.0    520\n",
       "6   20.0   118.0    212   325.0  417.0    535\n",
       "7   21.0   121.0    222   333.0  444.0    555\n",
       "8   20.0   118.0    212   325.0  417.0    535\n",
       "9   21.0   121.0    222   333.0  444.0    555"
      ]
     },
     "execution_count": 16,
     "metadata": {},
     "output_type": "execute_result"
    }
   ],
   "source": [
    "dfnew = pd.read_csv('../input/lab06-demo-dataset/lab06_data.txt', sep=',')\n",
    "dfnew"
   ]
  },
  {
   "cell_type": "code",
   "execution_count": 17,
   "id": "d5a76c10",
   "metadata": {
    "execution": {
     "iopub.execute_input": "2022-09-23T18:49:25.387905Z",
     "iopub.status.busy": "2022-09-23T18:49:25.386871Z",
     "iopub.status.idle": "2022-09-23T18:49:25.403237Z",
     "shell.execute_reply": "2022-09-23T18:49:25.402031Z"
    },
    "papermill": {
     "duration": 0.035795,
     "end_time": "2022-09-23T18:49:25.405411",
     "exception": false,
     "start_time": "2022-09-23T18:49:25.369616",
     "status": "completed"
    },
    "tags": []
   },
   "outputs": [
    {
     "data": {
      "text/html": [
       "<div>\n",
       "<style scoped>\n",
       "    .dataframe tbody tr th:only-of-type {\n",
       "        vertical-align: middle;\n",
       "    }\n",
       "\n",
       "    .dataframe tbody tr th {\n",
       "        vertical-align: top;\n",
       "    }\n",
       "\n",
       "    .dataframe thead th {\n",
       "        text-align: right;\n",
       "    }\n",
       "</style>\n",
       "<table border=\"1\" class=\"dataframe\">\n",
       "  <thead>\n",
       "    <tr style=\"text-align: right;\">\n",
       "      <th></th>\n",
       "      <th>first</th>\n",
       "      <th>second</th>\n",
       "      <th>third</th>\n",
       "      <th>fourth</th>\n",
       "      <th>fifth</th>\n",
       "    </tr>\n",
       "  </thead>\n",
       "  <tbody>\n",
       "    <tr>\n",
       "      <th>0</th>\n",
       "      <td>10.0</td>\n",
       "      <td>100.0</td>\n",
       "      <td>200</td>\n",
       "      <td>NaN</td>\n",
       "      <td>400.0</td>\n",
       "    </tr>\n",
       "    <tr>\n",
       "      <th>1</th>\n",
       "      <td>11.0</td>\n",
       "      <td>102.0</td>\n",
       "      <td>203</td>\n",
       "      <td>305.0</td>\n",
       "      <td>410.0</td>\n",
       "    </tr>\n",
       "    <tr>\n",
       "      <th>2</th>\n",
       "      <td>NaN</td>\n",
       "      <td>104.0</td>\n",
       "      <td>210</td>\n",
       "      <td>308.0</td>\n",
       "      <td>414.0</td>\n",
       "    </tr>\n",
       "    <tr>\n",
       "      <th>3</th>\n",
       "      <td>13.0</td>\n",
       "      <td>110.0</td>\n",
       "      <td>202</td>\n",
       "      <td>313.0</td>\n",
       "      <td>NaN</td>\n",
       "    </tr>\n",
       "    <tr>\n",
       "      <th>4</th>\n",
       "      <td>12.0</td>\n",
       "      <td>NaN</td>\n",
       "      <td>207</td>\n",
       "      <td>300.0</td>\n",
       "      <td>400.0</td>\n",
       "    </tr>\n",
       "    <tr>\n",
       "      <th>5</th>\n",
       "      <td>15.0</td>\n",
       "      <td>100.0</td>\n",
       "      <td>210</td>\n",
       "      <td>305.0</td>\n",
       "      <td>408.0</td>\n",
       "    </tr>\n",
       "    <tr>\n",
       "      <th>6</th>\n",
       "      <td>20.0</td>\n",
       "      <td>118.0</td>\n",
       "      <td>212</td>\n",
       "      <td>325.0</td>\n",
       "      <td>417.0</td>\n",
       "    </tr>\n",
       "    <tr>\n",
       "      <th>7</th>\n",
       "      <td>21.0</td>\n",
       "      <td>121.0</td>\n",
       "      <td>222</td>\n",
       "      <td>333.0</td>\n",
       "      <td>444.0</td>\n",
       "    </tr>\n",
       "    <tr>\n",
       "      <th>8</th>\n",
       "      <td>20.0</td>\n",
       "      <td>118.0</td>\n",
       "      <td>212</td>\n",
       "      <td>325.0</td>\n",
       "      <td>417.0</td>\n",
       "    </tr>\n",
       "    <tr>\n",
       "      <th>9</th>\n",
       "      <td>21.0</td>\n",
       "      <td>121.0</td>\n",
       "      <td>222</td>\n",
       "      <td>333.0</td>\n",
       "      <td>444.0</td>\n",
       "    </tr>\n",
       "  </tbody>\n",
       "</table>\n",
       "</div>"
      ],
      "text/plain": [
       "   first  second  third  fourth  fifth\n",
       "0   10.0   100.0    200     NaN  400.0\n",
       "1   11.0   102.0    203   305.0  410.0\n",
       "2    NaN   104.0    210   308.0  414.0\n",
       "3   13.0   110.0    202   313.0    NaN\n",
       "4   12.0     NaN    207   300.0  400.0\n",
       "5   15.0   100.0    210   305.0  408.0\n",
       "6   20.0   118.0    212   325.0  417.0\n",
       "7   21.0   121.0    222   333.0  444.0\n",
       "8   20.0   118.0    212   325.0  417.0\n",
       "9   21.0   121.0    222   333.0  444.0"
      ]
     },
     "execution_count": 17,
     "metadata": {},
     "output_type": "execute_result"
    }
   ],
   "source": [
    "dfnew.drop(\"sixth\", axis=1, inplace=True)\n",
    "dfnew"
   ]
  },
  {
   "cell_type": "markdown",
   "id": "8fde0f0c",
   "metadata": {
    "papermill": {
     "duration": 0.015674,
     "end_time": "2022-09-23T18:49:25.436953",
     "exception": false,
     "start_time": "2022-09-23T18:49:25.421279",
     "status": "completed"
    },
    "tags": []
   },
   "source": [
    "#### Method 02: Replace missing values with \"Average Values\" of that particular Attribute"
   ]
  },
  {
   "cell_type": "markdown",
   "id": "0791fc29",
   "metadata": {
    "papermill": {
     "duration": 0.015107,
     "end_time": "2022-09-23T18:49:25.467530",
     "exception": false,
     "start_time": "2022-09-23T18:49:25.452423",
     "status": "completed"
    },
    "tags": []
   },
   "source": [
    "##### Mean( )"
   ]
  },
  {
   "cell_type": "code",
   "execution_count": 18,
   "id": "71af5748",
   "metadata": {
    "execution": {
     "iopub.execute_input": "2022-09-23T18:49:25.501033Z",
     "iopub.status.busy": "2022-09-23T18:49:25.500391Z",
     "iopub.status.idle": "2022-09-23T18:49:25.519098Z",
     "shell.execute_reply": "2022-09-23T18:49:25.518014Z"
    },
    "papermill": {
     "duration": 0.038077,
     "end_time": "2022-09-23T18:49:25.521223",
     "exception": false,
     "start_time": "2022-09-23T18:49:25.483146",
     "status": "completed"
    },
    "tags": []
   },
   "outputs": [
    {
     "data": {
      "text/html": [
       "<div>\n",
       "<style scoped>\n",
       "    .dataframe tbody tr th:only-of-type {\n",
       "        vertical-align: middle;\n",
       "    }\n",
       "\n",
       "    .dataframe tbody tr th {\n",
       "        vertical-align: top;\n",
       "    }\n",
       "\n",
       "    .dataframe thead th {\n",
       "        text-align: right;\n",
       "    }\n",
       "</style>\n",
       "<table border=\"1\" class=\"dataframe\">\n",
       "  <thead>\n",
       "    <tr style=\"text-align: right;\">\n",
       "      <th></th>\n",
       "      <th>first</th>\n",
       "      <th>second</th>\n",
       "      <th>third</th>\n",
       "      <th>fourth</th>\n",
       "      <th>fifth</th>\n",
       "      <th>sixth</th>\n",
       "    </tr>\n",
       "  </thead>\n",
       "  <tbody>\n",
       "    <tr>\n",
       "      <th>0</th>\n",
       "      <td>10.0</td>\n",
       "      <td>100.0</td>\n",
       "      <td>200</td>\n",
       "      <td>NaN</td>\n",
       "      <td>400.0</td>\n",
       "      <td>500</td>\n",
       "    </tr>\n",
       "    <tr>\n",
       "      <th>1</th>\n",
       "      <td>11.0</td>\n",
       "      <td>102.0</td>\n",
       "      <td>203</td>\n",
       "      <td>305.0</td>\n",
       "      <td>410.0</td>\n",
       "      <td>505</td>\n",
       "    </tr>\n",
       "    <tr>\n",
       "      <th>2</th>\n",
       "      <td>NaN</td>\n",
       "      <td>104.0</td>\n",
       "      <td>210</td>\n",
       "      <td>308.0</td>\n",
       "      <td>414.0</td>\n",
       "      <td>514</td>\n",
       "    </tr>\n",
       "    <tr>\n",
       "      <th>3</th>\n",
       "      <td>13.0</td>\n",
       "      <td>110.0</td>\n",
       "      <td>202</td>\n",
       "      <td>313.0</td>\n",
       "      <td>NaN</td>\n",
       "      <td>520</td>\n",
       "    </tr>\n",
       "    <tr>\n",
       "      <th>4</th>\n",
       "      <td>12.0</td>\n",
       "      <td>NaN</td>\n",
       "      <td>207</td>\n",
       "      <td>300.0</td>\n",
       "      <td>400.0</td>\n",
       "      <td>500</td>\n",
       "    </tr>\n",
       "    <tr>\n",
       "      <th>5</th>\n",
       "      <td>15.0</td>\n",
       "      <td>100.0</td>\n",
       "      <td>210</td>\n",
       "      <td>305.0</td>\n",
       "      <td>408.0</td>\n",
       "      <td>520</td>\n",
       "    </tr>\n",
       "    <tr>\n",
       "      <th>6</th>\n",
       "      <td>20.0</td>\n",
       "      <td>118.0</td>\n",
       "      <td>212</td>\n",
       "      <td>325.0</td>\n",
       "      <td>417.0</td>\n",
       "      <td>535</td>\n",
       "    </tr>\n",
       "    <tr>\n",
       "      <th>7</th>\n",
       "      <td>21.0</td>\n",
       "      <td>121.0</td>\n",
       "      <td>222</td>\n",
       "      <td>333.0</td>\n",
       "      <td>444.0</td>\n",
       "      <td>555</td>\n",
       "    </tr>\n",
       "    <tr>\n",
       "      <th>8</th>\n",
       "      <td>20.0</td>\n",
       "      <td>118.0</td>\n",
       "      <td>212</td>\n",
       "      <td>325.0</td>\n",
       "      <td>417.0</td>\n",
       "      <td>535</td>\n",
       "    </tr>\n",
       "    <tr>\n",
       "      <th>9</th>\n",
       "      <td>21.0</td>\n",
       "      <td>121.0</td>\n",
       "      <td>222</td>\n",
       "      <td>333.0</td>\n",
       "      <td>444.0</td>\n",
       "      <td>555</td>\n",
       "    </tr>\n",
       "  </tbody>\n",
       "</table>\n",
       "</div>"
      ],
      "text/plain": [
       "   first  second  third  fourth  fifth  sixth\n",
       "0   10.0   100.0    200     NaN  400.0    500\n",
       "1   11.0   102.0    203   305.0  410.0    505\n",
       "2    NaN   104.0    210   308.0  414.0    514\n",
       "3   13.0   110.0    202   313.0    NaN    520\n",
       "4   12.0     NaN    207   300.0  400.0    500\n",
       "5   15.0   100.0    210   305.0  408.0    520\n",
       "6   20.0   118.0    212   325.0  417.0    535\n",
       "7   21.0   121.0    222   333.0  444.0    555\n",
       "8   20.0   118.0    212   325.0  417.0    535\n",
       "9   21.0   121.0    222   333.0  444.0    555"
      ]
     },
     "execution_count": 18,
     "metadata": {},
     "output_type": "execute_result"
    }
   ],
   "source": [
    "# read in sample data\n",
    "dfnew = pd.read_csv('../input/lab06-demo-dataset/lab06_data.txt', sep=',')\n",
    "dfnew"
   ]
  },
  {
   "cell_type": "code",
   "execution_count": 19,
   "id": "ceb0b6b8",
   "metadata": {
    "execution": {
     "iopub.execute_input": "2022-09-23T18:49:25.555195Z",
     "iopub.status.busy": "2022-09-23T18:49:25.554557Z",
     "iopub.status.idle": "2022-09-23T18:49:25.572124Z",
     "shell.execute_reply": "2022-09-23T18:49:25.570973Z"
    },
    "papermill": {
     "duration": 0.036983,
     "end_time": "2022-09-23T18:49:25.574300",
     "exception": false,
     "start_time": "2022-09-23T18:49:25.537317",
     "status": "completed"
    },
    "tags": []
   },
   "outputs": [
    {
     "data": {
      "text/html": [
       "<div>\n",
       "<style scoped>\n",
       "    .dataframe tbody tr th:only-of-type {\n",
       "        vertical-align: middle;\n",
       "    }\n",
       "\n",
       "    .dataframe tbody tr th {\n",
       "        vertical-align: top;\n",
       "    }\n",
       "\n",
       "    .dataframe thead th {\n",
       "        text-align: right;\n",
       "    }\n",
       "</style>\n",
       "<table border=\"1\" class=\"dataframe\">\n",
       "  <thead>\n",
       "    <tr style=\"text-align: right;\">\n",
       "      <th></th>\n",
       "      <th>first</th>\n",
       "      <th>second</th>\n",
       "      <th>third</th>\n",
       "      <th>fourth</th>\n",
       "      <th>fifth</th>\n",
       "      <th>sixth</th>\n",
       "    </tr>\n",
       "  </thead>\n",
       "  <tbody>\n",
       "    <tr>\n",
       "      <th>0</th>\n",
       "      <td>10.000000</td>\n",
       "      <td>100.000000</td>\n",
       "      <td>200</td>\n",
       "      <td>316.333333</td>\n",
       "      <td>400.000000</td>\n",
       "      <td>500</td>\n",
       "    </tr>\n",
       "    <tr>\n",
       "      <th>1</th>\n",
       "      <td>11.000000</td>\n",
       "      <td>102.000000</td>\n",
       "      <td>203</td>\n",
       "      <td>305.000000</td>\n",
       "      <td>410.000000</td>\n",
       "      <td>505</td>\n",
       "    </tr>\n",
       "    <tr>\n",
       "      <th>2</th>\n",
       "      <td>15.888889</td>\n",
       "      <td>104.000000</td>\n",
       "      <td>210</td>\n",
       "      <td>308.000000</td>\n",
       "      <td>414.000000</td>\n",
       "      <td>514</td>\n",
       "    </tr>\n",
       "    <tr>\n",
       "      <th>3</th>\n",
       "      <td>13.000000</td>\n",
       "      <td>110.000000</td>\n",
       "      <td>202</td>\n",
       "      <td>313.000000</td>\n",
       "      <td>417.111111</td>\n",
       "      <td>520</td>\n",
       "    </tr>\n",
       "    <tr>\n",
       "      <th>4</th>\n",
       "      <td>12.000000</td>\n",
       "      <td>110.444444</td>\n",
       "      <td>207</td>\n",
       "      <td>300.000000</td>\n",
       "      <td>400.000000</td>\n",
       "      <td>500</td>\n",
       "    </tr>\n",
       "    <tr>\n",
       "      <th>5</th>\n",
       "      <td>15.000000</td>\n",
       "      <td>100.000000</td>\n",
       "      <td>210</td>\n",
       "      <td>305.000000</td>\n",
       "      <td>408.000000</td>\n",
       "      <td>520</td>\n",
       "    </tr>\n",
       "    <tr>\n",
       "      <th>6</th>\n",
       "      <td>20.000000</td>\n",
       "      <td>118.000000</td>\n",
       "      <td>212</td>\n",
       "      <td>325.000000</td>\n",
       "      <td>417.000000</td>\n",
       "      <td>535</td>\n",
       "    </tr>\n",
       "    <tr>\n",
       "      <th>7</th>\n",
       "      <td>21.000000</td>\n",
       "      <td>121.000000</td>\n",
       "      <td>222</td>\n",
       "      <td>333.000000</td>\n",
       "      <td>444.000000</td>\n",
       "      <td>555</td>\n",
       "    </tr>\n",
       "    <tr>\n",
       "      <th>8</th>\n",
       "      <td>20.000000</td>\n",
       "      <td>118.000000</td>\n",
       "      <td>212</td>\n",
       "      <td>325.000000</td>\n",
       "      <td>417.000000</td>\n",
       "      <td>535</td>\n",
       "    </tr>\n",
       "    <tr>\n",
       "      <th>9</th>\n",
       "      <td>21.000000</td>\n",
       "      <td>121.000000</td>\n",
       "      <td>222</td>\n",
       "      <td>333.000000</td>\n",
       "      <td>444.000000</td>\n",
       "      <td>555</td>\n",
       "    </tr>\n",
       "  </tbody>\n",
       "</table>\n",
       "</div>"
      ],
      "text/plain": [
       "       first      second  third      fourth       fifth  sixth\n",
       "0  10.000000  100.000000    200  316.333333  400.000000    500\n",
       "1  11.000000  102.000000    203  305.000000  410.000000    505\n",
       "2  15.888889  104.000000    210  308.000000  414.000000    514\n",
       "3  13.000000  110.000000    202  313.000000  417.111111    520\n",
       "4  12.000000  110.444444    207  300.000000  400.000000    500\n",
       "5  15.000000  100.000000    210  305.000000  408.000000    520\n",
       "6  20.000000  118.000000    212  325.000000  417.000000    535\n",
       "7  21.000000  121.000000    222  333.000000  444.000000    555\n",
       "8  20.000000  118.000000    212  325.000000  417.000000    535\n",
       "9  21.000000  121.000000    222  333.000000  444.000000    555"
      ]
     },
     "execution_count": 19,
     "metadata": {},
     "output_type": "execute_result"
    }
   ],
   "source": [
    "dfnew.fillna(dfnew.mean(), inplace=True)\n",
    "dfnew"
   ]
  },
  {
   "cell_type": "markdown",
   "id": "dbc142ed",
   "metadata": {
    "papermill": {
     "duration": 0.016152,
     "end_time": "2022-09-23T18:49:25.607492",
     "exception": false,
     "start_time": "2022-09-23T18:49:25.591340",
     "status": "completed"
    },
    "tags": []
   },
   "source": [
    "##### Median( )"
   ]
  },
  {
   "cell_type": "code",
   "execution_count": 20,
   "id": "b1e64283",
   "metadata": {
    "execution": {
     "iopub.execute_input": "2022-09-23T18:49:25.644007Z",
     "iopub.status.busy": "2022-09-23T18:49:25.643554Z",
     "iopub.status.idle": "2022-09-23T18:49:25.660892Z",
     "shell.execute_reply": "2022-09-23T18:49:25.659883Z"
    },
    "papermill": {
     "duration": 0.038635,
     "end_time": "2022-09-23T18:49:25.662938",
     "exception": false,
     "start_time": "2022-09-23T18:49:25.624303",
     "status": "completed"
    },
    "tags": []
   },
   "outputs": [
    {
     "data": {
      "text/html": [
       "<div>\n",
       "<style scoped>\n",
       "    .dataframe tbody tr th:only-of-type {\n",
       "        vertical-align: middle;\n",
       "    }\n",
       "\n",
       "    .dataframe tbody tr th {\n",
       "        vertical-align: top;\n",
       "    }\n",
       "\n",
       "    .dataframe thead th {\n",
       "        text-align: right;\n",
       "    }\n",
       "</style>\n",
       "<table border=\"1\" class=\"dataframe\">\n",
       "  <thead>\n",
       "    <tr style=\"text-align: right;\">\n",
       "      <th></th>\n",
       "      <th>first</th>\n",
       "      <th>second</th>\n",
       "      <th>third</th>\n",
       "      <th>fourth</th>\n",
       "      <th>fifth</th>\n",
       "      <th>sixth</th>\n",
       "    </tr>\n",
       "  </thead>\n",
       "  <tbody>\n",
       "    <tr>\n",
       "      <th>0</th>\n",
       "      <td>10.0</td>\n",
       "      <td>100.0</td>\n",
       "      <td>200</td>\n",
       "      <td>NaN</td>\n",
       "      <td>400.0</td>\n",
       "      <td>500</td>\n",
       "    </tr>\n",
       "    <tr>\n",
       "      <th>1</th>\n",
       "      <td>11.0</td>\n",
       "      <td>102.0</td>\n",
       "      <td>203</td>\n",
       "      <td>305.0</td>\n",
       "      <td>410.0</td>\n",
       "      <td>505</td>\n",
       "    </tr>\n",
       "    <tr>\n",
       "      <th>2</th>\n",
       "      <td>NaN</td>\n",
       "      <td>104.0</td>\n",
       "      <td>210</td>\n",
       "      <td>308.0</td>\n",
       "      <td>414.0</td>\n",
       "      <td>514</td>\n",
       "    </tr>\n",
       "    <tr>\n",
       "      <th>3</th>\n",
       "      <td>13.0</td>\n",
       "      <td>110.0</td>\n",
       "      <td>202</td>\n",
       "      <td>313.0</td>\n",
       "      <td>NaN</td>\n",
       "      <td>520</td>\n",
       "    </tr>\n",
       "    <tr>\n",
       "      <th>4</th>\n",
       "      <td>12.0</td>\n",
       "      <td>NaN</td>\n",
       "      <td>207</td>\n",
       "      <td>300.0</td>\n",
       "      <td>400.0</td>\n",
       "      <td>500</td>\n",
       "    </tr>\n",
       "  </tbody>\n",
       "</table>\n",
       "</div>"
      ],
      "text/plain": [
       "   first  second  third  fourth  fifth  sixth\n",
       "0   10.0   100.0    200     NaN  400.0    500\n",
       "1   11.0   102.0    203   305.0  410.0    505\n",
       "2    NaN   104.0    210   308.0  414.0    514\n",
       "3   13.0   110.0    202   313.0    NaN    520\n",
       "4   12.0     NaN    207   300.0  400.0    500"
      ]
     },
     "execution_count": 20,
     "metadata": {},
     "output_type": "execute_result"
    }
   ],
   "source": [
    "dfnew = pd.read_csv('../input/lab06-demo-dataset/lab06_data.txt', sep=',')\n",
    "dfnew.head()"
   ]
  },
  {
   "cell_type": "code",
   "execution_count": 21,
   "id": "adfb36a9",
   "metadata": {
    "execution": {
     "iopub.execute_input": "2022-09-23T18:49:25.698514Z",
     "iopub.status.busy": "2022-09-23T18:49:25.697959Z",
     "iopub.status.idle": "2022-09-23T18:49:25.716486Z",
     "shell.execute_reply": "2022-09-23T18:49:25.715765Z"
    },
    "papermill": {
     "duration": 0.039052,
     "end_time": "2022-09-23T18:49:25.718598",
     "exception": false,
     "start_time": "2022-09-23T18:49:25.679546",
     "status": "completed"
    },
    "tags": []
   },
   "outputs": [
    {
     "data": {
      "text/html": [
       "<div>\n",
       "<style scoped>\n",
       "    .dataframe tbody tr th:only-of-type {\n",
       "        vertical-align: middle;\n",
       "    }\n",
       "\n",
       "    .dataframe tbody tr th {\n",
       "        vertical-align: top;\n",
       "    }\n",
       "\n",
       "    .dataframe thead th {\n",
       "        text-align: right;\n",
       "    }\n",
       "</style>\n",
       "<table border=\"1\" class=\"dataframe\">\n",
       "  <thead>\n",
       "    <tr style=\"text-align: right;\">\n",
       "      <th></th>\n",
       "      <th>first</th>\n",
       "      <th>second</th>\n",
       "      <th>third</th>\n",
       "      <th>fourth</th>\n",
       "      <th>fifth</th>\n",
       "      <th>sixth</th>\n",
       "    </tr>\n",
       "  </thead>\n",
       "  <tbody>\n",
       "    <tr>\n",
       "      <th>0</th>\n",
       "      <td>10.0</td>\n",
       "      <td>100.0</td>\n",
       "      <td>200</td>\n",
       "      <td>NaN</td>\n",
       "      <td>400.0</td>\n",
       "      <td>500</td>\n",
       "    </tr>\n",
       "    <tr>\n",
       "      <th>1</th>\n",
       "      <td>11.0</td>\n",
       "      <td>102.0</td>\n",
       "      <td>203</td>\n",
       "      <td>305.0</td>\n",
       "      <td>410.0</td>\n",
       "      <td>505</td>\n",
       "    </tr>\n",
       "    <tr>\n",
       "      <th>2</th>\n",
       "      <td>15.0</td>\n",
       "      <td>104.0</td>\n",
       "      <td>210</td>\n",
       "      <td>308.0</td>\n",
       "      <td>414.0</td>\n",
       "      <td>514</td>\n",
       "    </tr>\n",
       "    <tr>\n",
       "      <th>3</th>\n",
       "      <td>13.0</td>\n",
       "      <td>110.0</td>\n",
       "      <td>202</td>\n",
       "      <td>313.0</td>\n",
       "      <td>NaN</td>\n",
       "      <td>520</td>\n",
       "    </tr>\n",
       "    <tr>\n",
       "      <th>4</th>\n",
       "      <td>12.0</td>\n",
       "      <td>110.0</td>\n",
       "      <td>207</td>\n",
       "      <td>300.0</td>\n",
       "      <td>400.0</td>\n",
       "      <td>500</td>\n",
       "    </tr>\n",
       "    <tr>\n",
       "      <th>5</th>\n",
       "      <td>15.0</td>\n",
       "      <td>100.0</td>\n",
       "      <td>210</td>\n",
       "      <td>305.0</td>\n",
       "      <td>408.0</td>\n",
       "      <td>520</td>\n",
       "    </tr>\n",
       "    <tr>\n",
       "      <th>6</th>\n",
       "      <td>20.0</td>\n",
       "      <td>118.0</td>\n",
       "      <td>212</td>\n",
       "      <td>325.0</td>\n",
       "      <td>417.0</td>\n",
       "      <td>535</td>\n",
       "    </tr>\n",
       "    <tr>\n",
       "      <th>7</th>\n",
       "      <td>21.0</td>\n",
       "      <td>121.0</td>\n",
       "      <td>222</td>\n",
       "      <td>333.0</td>\n",
       "      <td>444.0</td>\n",
       "      <td>555</td>\n",
       "    </tr>\n",
       "    <tr>\n",
       "      <th>8</th>\n",
       "      <td>20.0</td>\n",
       "      <td>118.0</td>\n",
       "      <td>212</td>\n",
       "      <td>325.0</td>\n",
       "      <td>417.0</td>\n",
       "      <td>535</td>\n",
       "    </tr>\n",
       "    <tr>\n",
       "      <th>9</th>\n",
       "      <td>21.0</td>\n",
       "      <td>121.0</td>\n",
       "      <td>222</td>\n",
       "      <td>333.0</td>\n",
       "      <td>444.0</td>\n",
       "      <td>555</td>\n",
       "    </tr>\n",
       "  </tbody>\n",
       "</table>\n",
       "</div>"
      ],
      "text/plain": [
       "   first  second  third  fourth  fifth  sixth\n",
       "0   10.0   100.0    200     NaN  400.0    500\n",
       "1   11.0   102.0    203   305.0  410.0    505\n",
       "2   15.0   104.0    210   308.0  414.0    514\n",
       "3   13.0   110.0    202   313.0    NaN    520\n",
       "4   12.0   110.0    207   300.0  400.0    500\n",
       "5   15.0   100.0    210   305.0  408.0    520\n",
       "6   20.0   118.0    212   325.0  417.0    535\n",
       "7   21.0   121.0    222   333.0  444.0    555\n",
       "8   20.0   118.0    212   325.0  417.0    535\n",
       "9   21.0   121.0    222   333.0  444.0    555"
      ]
     },
     "execution_count": 21,
     "metadata": {},
     "output_type": "execute_result"
    }
   ],
   "source": [
    "# median = dfnew[\"first\"].median()\n",
    "dfnew[\"first\"].fillna(dfnew['first'].median(), inplace=True)\n",
    "dfnew[\"second\"].fillna(dfnew['second'].median(), inplace=True)\n",
    "dfnew"
   ]
  },
  {
   "cell_type": "markdown",
   "id": "6b00a4c1",
   "metadata": {
    "papermill": {
     "duration": 0.016885,
     "end_time": "2022-09-23T18:49:25.752502",
     "exception": false,
     "start_time": "2022-09-23T18:49:25.735617",
     "status": "completed"
    },
    "tags": []
   },
   "source": [
    "#### Filling with \"Zeros\""
   ]
  },
  {
   "cell_type": "code",
   "execution_count": 3,
   "id": "39f5fea4",
   "metadata": {
    "execution": {
     "iopub.execute_input": "2022-09-23T18:49:25.789106Z",
     "iopub.status.busy": "2022-09-23T18:49:25.787904Z",
     "iopub.status.idle": "2022-09-23T18:49:25.793307Z",
     "shell.execute_reply": "2022-09-23T18:49:25.792508Z"
    },
    "papermill": {
     "duration": 0.02607,
     "end_time": "2022-09-23T18:49:25.795455",
     "exception": false,
     "start_time": "2022-09-23T18:49:25.769385",
     "status": "completed"
    },
    "tags": []
   },
   "outputs": [],
   "source": [
    "import pandas as pd"
   ]
  },
  {
   "cell_type": "code",
   "execution_count": 4,
   "id": "e20b1c20",
   "metadata": {
    "execution": {
     "iopub.execute_input": "2022-09-23T18:49:25.830766Z",
     "iopub.status.busy": "2022-09-23T18:49:25.830355Z",
     "iopub.status.idle": "2022-09-23T18:49:25.847931Z",
     "shell.execute_reply": "2022-09-23T18:49:25.847182Z"
    },
    "papermill": {
     "duration": 0.037714,
     "end_time": "2022-09-23T18:49:25.849998",
     "exception": false,
     "start_time": "2022-09-23T18:49:25.812284",
     "status": "completed"
    },
    "tags": []
   },
   "outputs": [
    {
     "ename": "FileNotFoundError",
     "evalue": "[Errno 2] No such file or directory: '../input/lab06-demo-dataset/lab06_data.txt'",
     "output_type": "error",
     "traceback": [
      "\u001b[1;31m---------------------------------------------------------------------------\u001b[0m",
      "\u001b[1;31mFileNotFoundError\u001b[0m                         Traceback (most recent call last)",
      "\u001b[1;32m~\\AppData\\Local\\Temp\\ipykernel_3824\\3026598637.py\u001b[0m in \u001b[0;36m<module>\u001b[1;34m\u001b[0m\n\u001b[1;32m----> 1\u001b[1;33m \u001b[0mdfnew\u001b[0m \u001b[1;33m=\u001b[0m \u001b[0mpd\u001b[0m\u001b[1;33m.\u001b[0m\u001b[0mread_csv\u001b[0m\u001b[1;33m(\u001b[0m\u001b[1;34m'../input/lab06-demo-dataset/lab06_data.txt'\u001b[0m\u001b[1;33m,\u001b[0m \u001b[0msep\u001b[0m\u001b[1;33m=\u001b[0m\u001b[1;34m','\u001b[0m\u001b[1;33m)\u001b[0m\u001b[1;33m\u001b[0m\u001b[1;33m\u001b[0m\u001b[0m\n\u001b[0m\u001b[0;32m      2\u001b[0m \u001b[0mdfnew\u001b[0m\u001b[1;33m\u001b[0m\u001b[1;33m\u001b[0m\u001b[0m\n",
      "\u001b[1;32m~\\AppData\\Local\\Programs\\Python\\Python37\\lib\\site-packages\\pandas\\util\\_decorators.py\u001b[0m in \u001b[0;36mwrapper\u001b[1;34m(*args, **kwargs)\u001b[0m\n\u001b[0;32m    309\u001b[0m                     \u001b[0mstacklevel\u001b[0m\u001b[1;33m=\u001b[0m\u001b[0mstacklevel\u001b[0m\u001b[1;33m,\u001b[0m\u001b[1;33m\u001b[0m\u001b[1;33m\u001b[0m\u001b[0m\n\u001b[0;32m    310\u001b[0m                 )\n\u001b[1;32m--> 311\u001b[1;33m             \u001b[1;32mreturn\u001b[0m \u001b[0mfunc\u001b[0m\u001b[1;33m(\u001b[0m\u001b[1;33m*\u001b[0m\u001b[0margs\u001b[0m\u001b[1;33m,\u001b[0m \u001b[1;33m**\u001b[0m\u001b[0mkwargs\u001b[0m\u001b[1;33m)\u001b[0m\u001b[1;33m\u001b[0m\u001b[1;33m\u001b[0m\u001b[0m\n\u001b[0m\u001b[0;32m    312\u001b[0m \u001b[1;33m\u001b[0m\u001b[0m\n\u001b[0;32m    313\u001b[0m         \u001b[1;32mreturn\u001b[0m \u001b[0mwrapper\u001b[0m\u001b[1;33m\u001b[0m\u001b[1;33m\u001b[0m\u001b[0m\n",
      "\u001b[1;32m~\\AppData\\Local\\Programs\\Python\\Python37\\lib\\site-packages\\pandas\\io\\parsers\\readers.py\u001b[0m in \u001b[0;36mread_csv\u001b[1;34m(filepath_or_buffer, sep, delimiter, header, names, index_col, usecols, squeeze, prefix, mangle_dupe_cols, dtype, engine, converters, true_values, false_values, skipinitialspace, skiprows, skipfooter, nrows, na_values, keep_default_na, na_filter, verbose, skip_blank_lines, parse_dates, infer_datetime_format, keep_date_col, date_parser, dayfirst, cache_dates, iterator, chunksize, compression, thousands, decimal, lineterminator, quotechar, quoting, doublequote, escapechar, comment, encoding, encoding_errors, dialect, error_bad_lines, warn_bad_lines, on_bad_lines, delim_whitespace, low_memory, memory_map, float_precision, storage_options)\u001b[0m\n\u001b[0;32m    584\u001b[0m     \u001b[0mkwds\u001b[0m\u001b[1;33m.\u001b[0m\u001b[0mupdate\u001b[0m\u001b[1;33m(\u001b[0m\u001b[0mkwds_defaults\u001b[0m\u001b[1;33m)\u001b[0m\u001b[1;33m\u001b[0m\u001b[1;33m\u001b[0m\u001b[0m\n\u001b[0;32m    585\u001b[0m \u001b[1;33m\u001b[0m\u001b[0m\n\u001b[1;32m--> 586\u001b[1;33m     \u001b[1;32mreturn\u001b[0m \u001b[0m_read\u001b[0m\u001b[1;33m(\u001b[0m\u001b[0mfilepath_or_buffer\u001b[0m\u001b[1;33m,\u001b[0m \u001b[0mkwds\u001b[0m\u001b[1;33m)\u001b[0m\u001b[1;33m\u001b[0m\u001b[1;33m\u001b[0m\u001b[0m\n\u001b[0m\u001b[0;32m    587\u001b[0m \u001b[1;33m\u001b[0m\u001b[0m\n\u001b[0;32m    588\u001b[0m \u001b[1;33m\u001b[0m\u001b[0m\n",
      "\u001b[1;32m~\\AppData\\Local\\Programs\\Python\\Python37\\lib\\site-packages\\pandas\\io\\parsers\\readers.py\u001b[0m in \u001b[0;36m_read\u001b[1;34m(filepath_or_buffer, kwds)\u001b[0m\n\u001b[0;32m    480\u001b[0m \u001b[1;33m\u001b[0m\u001b[0m\n\u001b[0;32m    481\u001b[0m     \u001b[1;31m# Create the parser.\u001b[0m\u001b[1;33m\u001b[0m\u001b[1;33m\u001b[0m\u001b[1;33m\u001b[0m\u001b[0m\n\u001b[1;32m--> 482\u001b[1;33m     \u001b[0mparser\u001b[0m \u001b[1;33m=\u001b[0m \u001b[0mTextFileReader\u001b[0m\u001b[1;33m(\u001b[0m\u001b[0mfilepath_or_buffer\u001b[0m\u001b[1;33m,\u001b[0m \u001b[1;33m**\u001b[0m\u001b[0mkwds\u001b[0m\u001b[1;33m)\u001b[0m\u001b[1;33m\u001b[0m\u001b[1;33m\u001b[0m\u001b[0m\n\u001b[0m\u001b[0;32m    483\u001b[0m \u001b[1;33m\u001b[0m\u001b[0m\n\u001b[0;32m    484\u001b[0m     \u001b[1;32mif\u001b[0m \u001b[0mchunksize\u001b[0m \u001b[1;32mor\u001b[0m \u001b[0miterator\u001b[0m\u001b[1;33m:\u001b[0m\u001b[1;33m\u001b[0m\u001b[1;33m\u001b[0m\u001b[0m\n",
      "\u001b[1;32m~\\AppData\\Local\\Programs\\Python\\Python37\\lib\\site-packages\\pandas\\io\\parsers\\readers.py\u001b[0m in \u001b[0;36m__init__\u001b[1;34m(self, f, engine, **kwds)\u001b[0m\n\u001b[0;32m    809\u001b[0m             \u001b[0mself\u001b[0m\u001b[1;33m.\u001b[0m\u001b[0moptions\u001b[0m\u001b[1;33m[\u001b[0m\u001b[1;34m\"has_index_names\"\u001b[0m\u001b[1;33m]\u001b[0m \u001b[1;33m=\u001b[0m \u001b[0mkwds\u001b[0m\u001b[1;33m[\u001b[0m\u001b[1;34m\"has_index_names\"\u001b[0m\u001b[1;33m]\u001b[0m\u001b[1;33m\u001b[0m\u001b[1;33m\u001b[0m\u001b[0m\n\u001b[0;32m    810\u001b[0m \u001b[1;33m\u001b[0m\u001b[0m\n\u001b[1;32m--> 811\u001b[1;33m         \u001b[0mself\u001b[0m\u001b[1;33m.\u001b[0m\u001b[0m_engine\u001b[0m \u001b[1;33m=\u001b[0m \u001b[0mself\u001b[0m\u001b[1;33m.\u001b[0m\u001b[0m_make_engine\u001b[0m\u001b[1;33m(\u001b[0m\u001b[0mself\u001b[0m\u001b[1;33m.\u001b[0m\u001b[0mengine\u001b[0m\u001b[1;33m)\u001b[0m\u001b[1;33m\u001b[0m\u001b[1;33m\u001b[0m\u001b[0m\n\u001b[0m\u001b[0;32m    812\u001b[0m \u001b[1;33m\u001b[0m\u001b[0m\n\u001b[0;32m    813\u001b[0m     \u001b[1;32mdef\u001b[0m \u001b[0mclose\u001b[0m\u001b[1;33m(\u001b[0m\u001b[0mself\u001b[0m\u001b[1;33m)\u001b[0m\u001b[1;33m:\u001b[0m\u001b[1;33m\u001b[0m\u001b[1;33m\u001b[0m\u001b[0m\n",
      "\u001b[1;32m~\\AppData\\Local\\Programs\\Python\\Python37\\lib\\site-packages\\pandas\\io\\parsers\\readers.py\u001b[0m in \u001b[0;36m_make_engine\u001b[1;34m(self, engine)\u001b[0m\n\u001b[0;32m   1038\u001b[0m             )\n\u001b[0;32m   1039\u001b[0m         \u001b[1;31m# error: Too many arguments for \"ParserBase\"\u001b[0m\u001b[1;33m\u001b[0m\u001b[1;33m\u001b[0m\u001b[1;33m\u001b[0m\u001b[0m\n\u001b[1;32m-> 1040\u001b[1;33m         \u001b[1;32mreturn\u001b[0m \u001b[0mmapping\u001b[0m\u001b[1;33m[\u001b[0m\u001b[0mengine\u001b[0m\u001b[1;33m]\u001b[0m\u001b[1;33m(\u001b[0m\u001b[0mself\u001b[0m\u001b[1;33m.\u001b[0m\u001b[0mf\u001b[0m\u001b[1;33m,\u001b[0m \u001b[1;33m**\u001b[0m\u001b[0mself\u001b[0m\u001b[1;33m.\u001b[0m\u001b[0moptions\u001b[0m\u001b[1;33m)\u001b[0m  \u001b[1;31m# type: ignore[call-arg]\u001b[0m\u001b[1;33m\u001b[0m\u001b[1;33m\u001b[0m\u001b[0m\n\u001b[0m\u001b[0;32m   1041\u001b[0m \u001b[1;33m\u001b[0m\u001b[0m\n\u001b[0;32m   1042\u001b[0m     \u001b[1;32mdef\u001b[0m \u001b[0m_failover_to_python\u001b[0m\u001b[1;33m(\u001b[0m\u001b[0mself\u001b[0m\u001b[1;33m)\u001b[0m\u001b[1;33m:\u001b[0m\u001b[1;33m\u001b[0m\u001b[1;33m\u001b[0m\u001b[0m\n",
      "\u001b[1;32m~\\AppData\\Local\\Programs\\Python\\Python37\\lib\\site-packages\\pandas\\io\\parsers\\c_parser_wrapper.py\u001b[0m in \u001b[0;36m__init__\u001b[1;34m(self, src, **kwds)\u001b[0m\n\u001b[0;32m     49\u001b[0m \u001b[1;33m\u001b[0m\u001b[0m\n\u001b[0;32m     50\u001b[0m         \u001b[1;31m# open handles\u001b[0m\u001b[1;33m\u001b[0m\u001b[1;33m\u001b[0m\u001b[1;33m\u001b[0m\u001b[0m\n\u001b[1;32m---> 51\u001b[1;33m         \u001b[0mself\u001b[0m\u001b[1;33m.\u001b[0m\u001b[0m_open_handles\u001b[0m\u001b[1;33m(\u001b[0m\u001b[0msrc\u001b[0m\u001b[1;33m,\u001b[0m \u001b[0mkwds\u001b[0m\u001b[1;33m)\u001b[0m\u001b[1;33m\u001b[0m\u001b[1;33m\u001b[0m\u001b[0m\n\u001b[0m\u001b[0;32m     52\u001b[0m         \u001b[1;32massert\u001b[0m \u001b[0mself\u001b[0m\u001b[1;33m.\u001b[0m\u001b[0mhandles\u001b[0m \u001b[1;32mis\u001b[0m \u001b[1;32mnot\u001b[0m \u001b[1;32mNone\u001b[0m\u001b[1;33m\u001b[0m\u001b[1;33m\u001b[0m\u001b[0m\n\u001b[0;32m     53\u001b[0m \u001b[1;33m\u001b[0m\u001b[0m\n",
      "\u001b[1;32m~\\AppData\\Local\\Programs\\Python\\Python37\\lib\\site-packages\\pandas\\io\\parsers\\base_parser.py\u001b[0m in \u001b[0;36m_open_handles\u001b[1;34m(self, src, kwds)\u001b[0m\n\u001b[0;32m    227\u001b[0m             \u001b[0mmemory_map\u001b[0m\u001b[1;33m=\u001b[0m\u001b[0mkwds\u001b[0m\u001b[1;33m.\u001b[0m\u001b[0mget\u001b[0m\u001b[1;33m(\u001b[0m\u001b[1;34m\"memory_map\"\u001b[0m\u001b[1;33m,\u001b[0m \u001b[1;32mFalse\u001b[0m\u001b[1;33m)\u001b[0m\u001b[1;33m,\u001b[0m\u001b[1;33m\u001b[0m\u001b[1;33m\u001b[0m\u001b[0m\n\u001b[0;32m    228\u001b[0m             \u001b[0mstorage_options\u001b[0m\u001b[1;33m=\u001b[0m\u001b[0mkwds\u001b[0m\u001b[1;33m.\u001b[0m\u001b[0mget\u001b[0m\u001b[1;33m(\u001b[0m\u001b[1;34m\"storage_options\"\u001b[0m\u001b[1;33m,\u001b[0m \u001b[1;32mNone\u001b[0m\u001b[1;33m)\u001b[0m\u001b[1;33m,\u001b[0m\u001b[1;33m\u001b[0m\u001b[1;33m\u001b[0m\u001b[0m\n\u001b[1;32m--> 229\u001b[1;33m             \u001b[0merrors\u001b[0m\u001b[1;33m=\u001b[0m\u001b[0mkwds\u001b[0m\u001b[1;33m.\u001b[0m\u001b[0mget\u001b[0m\u001b[1;33m(\u001b[0m\u001b[1;34m\"encoding_errors\"\u001b[0m\u001b[1;33m,\u001b[0m \u001b[1;34m\"strict\"\u001b[0m\u001b[1;33m)\u001b[0m\u001b[1;33m,\u001b[0m\u001b[1;33m\u001b[0m\u001b[1;33m\u001b[0m\u001b[0m\n\u001b[0m\u001b[0;32m    230\u001b[0m         )\n\u001b[0;32m    231\u001b[0m \u001b[1;33m\u001b[0m\u001b[0m\n",
      "\u001b[1;32m~\\AppData\\Local\\Programs\\Python\\Python37\\lib\\site-packages\\pandas\\io\\common.py\u001b[0m in \u001b[0;36mget_handle\u001b[1;34m(path_or_buf, mode, encoding, compression, memory_map, is_text, errors, storage_options)\u001b[0m\n\u001b[0;32m    705\u001b[0m                 \u001b[0mencoding\u001b[0m\u001b[1;33m=\u001b[0m\u001b[0mioargs\u001b[0m\u001b[1;33m.\u001b[0m\u001b[0mencoding\u001b[0m\u001b[1;33m,\u001b[0m\u001b[1;33m\u001b[0m\u001b[1;33m\u001b[0m\u001b[0m\n\u001b[0;32m    706\u001b[0m                 \u001b[0merrors\u001b[0m\u001b[1;33m=\u001b[0m\u001b[0merrors\u001b[0m\u001b[1;33m,\u001b[0m\u001b[1;33m\u001b[0m\u001b[1;33m\u001b[0m\u001b[0m\n\u001b[1;32m--> 707\u001b[1;33m                 \u001b[0mnewline\u001b[0m\u001b[1;33m=\u001b[0m\u001b[1;34m\"\"\u001b[0m\u001b[1;33m,\u001b[0m\u001b[1;33m\u001b[0m\u001b[1;33m\u001b[0m\u001b[0m\n\u001b[0m\u001b[0;32m    708\u001b[0m             )\n\u001b[0;32m    709\u001b[0m         \u001b[1;32melse\u001b[0m\u001b[1;33m:\u001b[0m\u001b[1;33m\u001b[0m\u001b[1;33m\u001b[0m\u001b[0m\n",
      "\u001b[1;31mFileNotFoundError\u001b[0m: [Errno 2] No such file or directory: '../input/lab06-demo-dataset/lab06_data.txt'"
     ]
    }
   ],
   "source": [
    "dfnew = pd.read_csv('../input/lab06-demo-dataset/lab06_data.txt', sep=',')\n",
    "dfnew"
   ]
  },
  {
   "cell_type": "code",
   "execution_count": 5,
   "id": "68076bf8",
   "metadata": {},
   "outputs": [],
   "source": [
    "import pandas as pd"
   ]
  },
  {
   "cell_type": "code",
   "execution_count": 6,
   "id": "0349a629",
   "metadata": {},
   "outputs": [
    {
     "ename": "NameError",
     "evalue": "name 'dfnew' is not defined",
     "output_type": "error",
     "traceback": [
      "\u001b[1;31m---------------------------------------------------------------------------\u001b[0m",
      "\u001b[1;31mNameError\u001b[0m                                 Traceback (most recent call last)",
      "\u001b[1;32m~\\AppData\\Local\\Temp\\ipykernel_3824\\1548372617.py\u001b[0m in \u001b[0;36m<module>\u001b[1;34m\u001b[0m\n\u001b[1;32m----> 1\u001b[1;33m \u001b[0mdfnew\u001b[0m\u001b[1;33m.\u001b[0m\u001b[0mto_csv\u001b[0m\u001b[1;33m(\u001b[0m\u001b[1;34m'lab06.csv'\u001b[0m\u001b[1;33m)\u001b[0m\u001b[1;33m\u001b[0m\u001b[1;33m\u001b[0m\u001b[0m\n\u001b[0m",
      "\u001b[1;31mNameError\u001b[0m: name 'dfnew' is not defined"
     ]
    }
   ],
   "source": [
    "dfnew.to_csv('lab06.csv')"
   ]
  },
  {
   "cell_type": "code",
   "execution_count": null,
   "id": "5b0d6ebd",
   "metadata": {},
   "outputs": [],
   "source": []
  },
  {
   "cell_type": "code",
   "execution_count": null,
   "id": "10765663",
   "metadata": {},
   "outputs": [],
   "source": []
  },
  {
   "cell_type": "code",
   "execution_count": null,
   "id": "451a109f",
   "metadata": {},
   "outputs": [],
   "source": []
  },
  {
   "cell_type": "code",
   "execution_count": null,
   "id": "a75f7178",
   "metadata": {},
   "outputs": [],
   "source": []
  },
  {
   "cell_type": "code",
   "execution_count": 24,
   "id": "3f2f051b",
   "metadata": {
    "execution": {
     "iopub.execute_input": "2022-09-23T18:49:25.886437Z",
     "iopub.status.busy": "2022-09-23T18:49:25.885678Z",
     "iopub.status.idle": "2022-09-23T18:49:25.900690Z",
     "shell.execute_reply": "2022-09-23T18:49:25.899766Z"
    },
    "papermill": {
     "duration": 0.035485,
     "end_time": "2022-09-23T18:49:25.902709",
     "exception": false,
     "start_time": "2022-09-23T18:49:25.867224",
     "status": "completed"
    },
    "tags": []
   },
   "outputs": [
    {
     "data": {
      "text/html": [
       "<div>\n",
       "<style scoped>\n",
       "    .dataframe tbody tr th:only-of-type {\n",
       "        vertical-align: middle;\n",
       "    }\n",
       "\n",
       "    .dataframe tbody tr th {\n",
       "        vertical-align: top;\n",
       "    }\n",
       "\n",
       "    .dataframe thead th {\n",
       "        text-align: right;\n",
       "    }\n",
       "</style>\n",
       "<table border=\"1\" class=\"dataframe\">\n",
       "  <thead>\n",
       "    <tr style=\"text-align: right;\">\n",
       "      <th></th>\n",
       "      <th>first</th>\n",
       "      <th>second</th>\n",
       "      <th>third</th>\n",
       "      <th>fourth</th>\n",
       "      <th>fifth</th>\n",
       "      <th>sixth</th>\n",
       "    </tr>\n",
       "  </thead>\n",
       "  <tbody>\n",
       "    <tr>\n",
       "      <th>0</th>\n",
       "      <td>10.0</td>\n",
       "      <td>100.0</td>\n",
       "      <td>200</td>\n",
       "      <td>NaN</td>\n",
       "      <td>400.0</td>\n",
       "      <td>500</td>\n",
       "    </tr>\n",
       "    <tr>\n",
       "      <th>1</th>\n",
       "      <td>11.0</td>\n",
       "      <td>102.0</td>\n",
       "      <td>203</td>\n",
       "      <td>305.0</td>\n",
       "      <td>410.0</td>\n",
       "      <td>505</td>\n",
       "    </tr>\n",
       "    <tr>\n",
       "      <th>2</th>\n",
       "      <td>0.0</td>\n",
       "      <td>104.0</td>\n",
       "      <td>210</td>\n",
       "      <td>308.0</td>\n",
       "      <td>414.0</td>\n",
       "      <td>514</td>\n",
       "    </tr>\n",
       "    <tr>\n",
       "      <th>3</th>\n",
       "      <td>13.0</td>\n",
       "      <td>110.0</td>\n",
       "      <td>202</td>\n",
       "      <td>313.0</td>\n",
       "      <td>NaN</td>\n",
       "      <td>520</td>\n",
       "    </tr>\n",
       "    <tr>\n",
       "      <th>4</th>\n",
       "      <td>12.0</td>\n",
       "      <td>NaN</td>\n",
       "      <td>207</td>\n",
       "      <td>300.0</td>\n",
       "      <td>400.0</td>\n",
       "      <td>500</td>\n",
       "    </tr>\n",
       "    <tr>\n",
       "      <th>5</th>\n",
       "      <td>15.0</td>\n",
       "      <td>100.0</td>\n",
       "      <td>210</td>\n",
       "      <td>305.0</td>\n",
       "      <td>408.0</td>\n",
       "      <td>520</td>\n",
       "    </tr>\n",
       "    <tr>\n",
       "      <th>6</th>\n",
       "      <td>20.0</td>\n",
       "      <td>118.0</td>\n",
       "      <td>212</td>\n",
       "      <td>325.0</td>\n",
       "      <td>417.0</td>\n",
       "      <td>535</td>\n",
       "    </tr>\n",
       "    <tr>\n",
       "      <th>7</th>\n",
       "      <td>21.0</td>\n",
       "      <td>121.0</td>\n",
       "      <td>222</td>\n",
       "      <td>333.0</td>\n",
       "      <td>444.0</td>\n",
       "      <td>555</td>\n",
       "    </tr>\n",
       "    <tr>\n",
       "      <th>8</th>\n",
       "      <td>20.0</td>\n",
       "      <td>118.0</td>\n",
       "      <td>212</td>\n",
       "      <td>325.0</td>\n",
       "      <td>417.0</td>\n",
       "      <td>535</td>\n",
       "    </tr>\n",
       "    <tr>\n",
       "      <th>9</th>\n",
       "      <td>21.0</td>\n",
       "      <td>121.0</td>\n",
       "      <td>222</td>\n",
       "      <td>333.0</td>\n",
       "      <td>444.0</td>\n",
       "      <td>555</td>\n",
       "    </tr>\n",
       "  </tbody>\n",
       "</table>\n",
       "</div>"
      ],
      "text/plain": [
       "   first  second  third  fourth  fifth  sixth\n",
       "0   10.0   100.0    200     NaN  400.0    500\n",
       "1   11.0   102.0    203   305.0  410.0    505\n",
       "2    0.0   104.0    210   308.0  414.0    514\n",
       "3   13.0   110.0    202   313.0    NaN    520\n",
       "4   12.0     NaN    207   300.0  400.0    500\n",
       "5   15.0   100.0    210   305.0  408.0    520\n",
       "6   20.0   118.0    212   325.0  417.0    535\n",
       "7   21.0   121.0    222   333.0  444.0    555\n",
       "8   20.0   118.0    212   325.0  417.0    535\n",
       "9   21.0   121.0    222   333.0  444.0    555"
      ]
     },
     "execution_count": 24,
     "metadata": {},
     "output_type": "execute_result"
    }
   ],
   "source": [
    "# For one column using pandas\n",
    "dfnew['first'] = dfnew['first'].fillna(0)\n",
    "dfnew\n",
    "\n",
    "# For one column using numpy\n",
    "# df['DataFrame Column'] = df['DataFrame Column'].replace(np.nan, 0)"
   ]
  },
  {
   "cell_type": "code",
   "execution_count": 25,
   "id": "d3788a8b",
   "metadata": {
    "execution": {
     "iopub.execute_input": "2022-09-23T18:49:25.939734Z",
     "iopub.status.busy": "2022-09-23T18:49:25.939046Z",
     "iopub.status.idle": "2022-09-23T18:49:25.953579Z",
     "shell.execute_reply": "2022-09-23T18:49:25.952836Z"
    },
    "papermill": {
     "duration": 0.035173,
     "end_time": "2022-09-23T18:49:25.955469",
     "exception": false,
     "start_time": "2022-09-23T18:49:25.920296",
     "status": "completed"
    },
    "tags": []
   },
   "outputs": [
    {
     "data": {
      "text/html": [
       "<div>\n",
       "<style scoped>\n",
       "    .dataframe tbody tr th:only-of-type {\n",
       "        vertical-align: middle;\n",
       "    }\n",
       "\n",
       "    .dataframe tbody tr th {\n",
       "        vertical-align: top;\n",
       "    }\n",
       "\n",
       "    .dataframe thead th {\n",
       "        text-align: right;\n",
       "    }\n",
       "</style>\n",
       "<table border=\"1\" class=\"dataframe\">\n",
       "  <thead>\n",
       "    <tr style=\"text-align: right;\">\n",
       "      <th></th>\n",
       "      <th>first</th>\n",
       "      <th>second</th>\n",
       "      <th>third</th>\n",
       "      <th>fourth</th>\n",
       "      <th>fifth</th>\n",
       "      <th>sixth</th>\n",
       "    </tr>\n",
       "  </thead>\n",
       "  <tbody>\n",
       "    <tr>\n",
       "      <th>0</th>\n",
       "      <td>10.0</td>\n",
       "      <td>100.0</td>\n",
       "      <td>200</td>\n",
       "      <td>0.0</td>\n",
       "      <td>400.0</td>\n",
       "      <td>500</td>\n",
       "    </tr>\n",
       "    <tr>\n",
       "      <th>1</th>\n",
       "      <td>11.0</td>\n",
       "      <td>102.0</td>\n",
       "      <td>203</td>\n",
       "      <td>305.0</td>\n",
       "      <td>410.0</td>\n",
       "      <td>505</td>\n",
       "    </tr>\n",
       "    <tr>\n",
       "      <th>2</th>\n",
       "      <td>0.0</td>\n",
       "      <td>104.0</td>\n",
       "      <td>210</td>\n",
       "      <td>308.0</td>\n",
       "      <td>414.0</td>\n",
       "      <td>514</td>\n",
       "    </tr>\n",
       "    <tr>\n",
       "      <th>3</th>\n",
       "      <td>13.0</td>\n",
       "      <td>110.0</td>\n",
       "      <td>202</td>\n",
       "      <td>313.0</td>\n",
       "      <td>0.0</td>\n",
       "      <td>520</td>\n",
       "    </tr>\n",
       "    <tr>\n",
       "      <th>4</th>\n",
       "      <td>12.0</td>\n",
       "      <td>0.0</td>\n",
       "      <td>207</td>\n",
       "      <td>300.0</td>\n",
       "      <td>400.0</td>\n",
       "      <td>500</td>\n",
       "    </tr>\n",
       "    <tr>\n",
       "      <th>5</th>\n",
       "      <td>15.0</td>\n",
       "      <td>100.0</td>\n",
       "      <td>210</td>\n",
       "      <td>305.0</td>\n",
       "      <td>408.0</td>\n",
       "      <td>520</td>\n",
       "    </tr>\n",
       "    <tr>\n",
       "      <th>6</th>\n",
       "      <td>20.0</td>\n",
       "      <td>118.0</td>\n",
       "      <td>212</td>\n",
       "      <td>325.0</td>\n",
       "      <td>417.0</td>\n",
       "      <td>535</td>\n",
       "    </tr>\n",
       "    <tr>\n",
       "      <th>7</th>\n",
       "      <td>21.0</td>\n",
       "      <td>121.0</td>\n",
       "      <td>222</td>\n",
       "      <td>333.0</td>\n",
       "      <td>444.0</td>\n",
       "      <td>555</td>\n",
       "    </tr>\n",
       "    <tr>\n",
       "      <th>8</th>\n",
       "      <td>20.0</td>\n",
       "      <td>118.0</td>\n",
       "      <td>212</td>\n",
       "      <td>325.0</td>\n",
       "      <td>417.0</td>\n",
       "      <td>535</td>\n",
       "    </tr>\n",
       "    <tr>\n",
       "      <th>9</th>\n",
       "      <td>21.0</td>\n",
       "      <td>121.0</td>\n",
       "      <td>222</td>\n",
       "      <td>333.0</td>\n",
       "      <td>444.0</td>\n",
       "      <td>555</td>\n",
       "    </tr>\n",
       "  </tbody>\n",
       "</table>\n",
       "</div>"
      ],
      "text/plain": [
       "   first  second  third  fourth  fifth  sixth\n",
       "0   10.0   100.0    200     0.0  400.0    500\n",
       "1   11.0   102.0    203   305.0  410.0    505\n",
       "2    0.0   104.0    210   308.0  414.0    514\n",
       "3   13.0   110.0    202   313.0    0.0    520\n",
       "4   12.0     0.0    207   300.0  400.0    500\n",
       "5   15.0   100.0    210   305.0  408.0    520\n",
       "6   20.0   118.0    212   325.0  417.0    535\n",
       "7   21.0   121.0    222   333.0  444.0    555\n",
       "8   20.0   118.0    212   325.0  417.0    535\n",
       "9   21.0   121.0    222   333.0  444.0    555"
      ]
     },
     "execution_count": 25,
     "metadata": {},
     "output_type": "execute_result"
    }
   ],
   "source": [
    "#For the whole DataFrame using pandas\n",
    "dfnew.fillna(0)\n",
    "\n",
    "# For the whole DataFrame using numpy\n",
    "# df.replace(np.nan, 0)"
   ]
  },
  {
   "cell_type": "markdown",
   "id": "757d66d6",
   "metadata": {
    "papermill": {
     "duration": 0.017385,
     "end_time": "2022-09-23T18:49:25.990307",
     "exception": false,
     "start_time": "2022-09-23T18:49:25.972922",
     "status": "completed"
    },
    "tags": []
   },
   "source": [
    "### Usage of IMPUTER\n",
    "- SciKit-Learn provides Imputer class to handle missing values with ease. \n",
    "- One can use it in the following way:\n",
    "    1. First, one need to decide the strategy: mean, median, most_frequent\n",
    "    2. Second, create the imputer instance using the decided strategy"
   ]
  },
  {
   "cell_type": "code",
   "execution_count": 26,
   "id": "d7792eda",
   "metadata": {
    "execution": {
     "iopub.execute_input": "2022-09-23T18:49:26.026513Z",
     "iopub.status.busy": "2022-09-23T18:49:26.025845Z",
     "iopub.status.idle": "2022-09-23T18:49:26.044618Z",
     "shell.execute_reply": "2022-09-23T18:49:26.043436Z"
    },
    "papermill": {
     "duration": 0.039667,
     "end_time": "2022-09-23T18:49:26.046966",
     "exception": false,
     "start_time": "2022-09-23T18:49:26.007299",
     "status": "completed"
    },
    "tags": []
   },
   "outputs": [
    {
     "data": {
      "text/html": [
       "<div>\n",
       "<style scoped>\n",
       "    .dataframe tbody tr th:only-of-type {\n",
       "        vertical-align: middle;\n",
       "    }\n",
       "\n",
       "    .dataframe tbody tr th {\n",
       "        vertical-align: top;\n",
       "    }\n",
       "\n",
       "    .dataframe thead th {\n",
       "        text-align: right;\n",
       "    }\n",
       "</style>\n",
       "<table border=\"1\" class=\"dataframe\">\n",
       "  <thead>\n",
       "    <tr style=\"text-align: right;\">\n",
       "      <th></th>\n",
       "      <th>first</th>\n",
       "      <th>second</th>\n",
       "      <th>third</th>\n",
       "      <th>fourth</th>\n",
       "      <th>fifth</th>\n",
       "      <th>sixth</th>\n",
       "    </tr>\n",
       "  </thead>\n",
       "  <tbody>\n",
       "    <tr>\n",
       "      <th>0</th>\n",
       "      <td>10.0</td>\n",
       "      <td>100.0</td>\n",
       "      <td>200</td>\n",
       "      <td>NaN</td>\n",
       "      <td>400.0</td>\n",
       "      <td>500</td>\n",
       "    </tr>\n",
       "    <tr>\n",
       "      <th>1</th>\n",
       "      <td>11.0</td>\n",
       "      <td>102.0</td>\n",
       "      <td>203</td>\n",
       "      <td>305.0</td>\n",
       "      <td>410.0</td>\n",
       "      <td>505</td>\n",
       "    </tr>\n",
       "    <tr>\n",
       "      <th>2</th>\n",
       "      <td>NaN</td>\n",
       "      <td>104.0</td>\n",
       "      <td>210</td>\n",
       "      <td>308.0</td>\n",
       "      <td>414.0</td>\n",
       "      <td>514</td>\n",
       "    </tr>\n",
       "    <tr>\n",
       "      <th>3</th>\n",
       "      <td>13.0</td>\n",
       "      <td>110.0</td>\n",
       "      <td>202</td>\n",
       "      <td>313.0</td>\n",
       "      <td>NaN</td>\n",
       "      <td>520</td>\n",
       "    </tr>\n",
       "    <tr>\n",
       "      <th>4</th>\n",
       "      <td>12.0</td>\n",
       "      <td>NaN</td>\n",
       "      <td>207</td>\n",
       "      <td>300.0</td>\n",
       "      <td>400.0</td>\n",
       "      <td>500</td>\n",
       "    </tr>\n",
       "    <tr>\n",
       "      <th>5</th>\n",
       "      <td>15.0</td>\n",
       "      <td>100.0</td>\n",
       "      <td>210</td>\n",
       "      <td>305.0</td>\n",
       "      <td>408.0</td>\n",
       "      <td>520</td>\n",
       "    </tr>\n",
       "    <tr>\n",
       "      <th>6</th>\n",
       "      <td>20.0</td>\n",
       "      <td>118.0</td>\n",
       "      <td>212</td>\n",
       "      <td>325.0</td>\n",
       "      <td>417.0</td>\n",
       "      <td>535</td>\n",
       "    </tr>\n",
       "    <tr>\n",
       "      <th>7</th>\n",
       "      <td>21.0</td>\n",
       "      <td>121.0</td>\n",
       "      <td>222</td>\n",
       "      <td>333.0</td>\n",
       "      <td>444.0</td>\n",
       "      <td>555</td>\n",
       "    </tr>\n",
       "    <tr>\n",
       "      <th>8</th>\n",
       "      <td>20.0</td>\n",
       "      <td>118.0</td>\n",
       "      <td>212</td>\n",
       "      <td>325.0</td>\n",
       "      <td>417.0</td>\n",
       "      <td>535</td>\n",
       "    </tr>\n",
       "    <tr>\n",
       "      <th>9</th>\n",
       "      <td>21.0</td>\n",
       "      <td>121.0</td>\n",
       "      <td>222</td>\n",
       "      <td>333.0</td>\n",
       "      <td>444.0</td>\n",
       "      <td>555</td>\n",
       "    </tr>\n",
       "  </tbody>\n",
       "</table>\n",
       "</div>"
      ],
      "text/plain": [
       "   first  second  third  fourth  fifth  sixth\n",
       "0   10.0   100.0    200     NaN  400.0    500\n",
       "1   11.0   102.0    203   305.0  410.0    505\n",
       "2    NaN   104.0    210   308.0  414.0    514\n",
       "3   13.0   110.0    202   313.0    NaN    520\n",
       "4   12.0     NaN    207   300.0  400.0    500\n",
       "5   15.0   100.0    210   305.0  408.0    520\n",
       "6   20.0   118.0    212   325.0  417.0    535\n",
       "7   21.0   121.0    222   333.0  444.0    555\n",
       "8   20.0   118.0    212   325.0  417.0    535\n",
       "9   21.0   121.0    222   333.0  444.0    555"
      ]
     },
     "execution_count": 26,
     "metadata": {},
     "output_type": "execute_result"
    }
   ],
   "source": [
    "dfnew = pd.read_csv('../input/lab06-demo-dataset/lab06_data.txt', sep=',')\n",
    "dfnew"
   ]
  },
  {
   "cell_type": "code",
   "execution_count": 27,
   "id": "949390e8",
   "metadata": {
    "execution": {
     "iopub.execute_input": "2022-09-23T18:49:26.085333Z",
     "iopub.status.busy": "2022-09-23T18:49:26.084957Z",
     "iopub.status.idle": "2022-09-23T18:49:27.256110Z",
     "shell.execute_reply": "2022-09-23T18:49:27.254348Z"
    },
    "papermill": {
     "duration": 1.19304,
     "end_time": "2022-09-23T18:49:27.258320",
     "exception": false,
     "start_time": "2022-09-23T18:49:26.065280",
     "status": "completed"
    },
    "tags": []
   },
   "outputs": [
    {
     "data": {
      "text/html": [
       "<div>\n",
       "<style scoped>\n",
       "    .dataframe tbody tr th:only-of-type {\n",
       "        vertical-align: middle;\n",
       "    }\n",
       "\n",
       "    .dataframe tbody tr th {\n",
       "        vertical-align: top;\n",
       "    }\n",
       "\n",
       "    .dataframe thead th {\n",
       "        text-align: right;\n",
       "    }\n",
       "</style>\n",
       "<table border=\"1\" class=\"dataframe\">\n",
       "  <thead>\n",
       "    <tr style=\"text-align: right;\">\n",
       "      <th></th>\n",
       "      <th>first</th>\n",
       "      <th>second</th>\n",
       "      <th>third</th>\n",
       "      <th>fourth</th>\n",
       "      <th>fifth</th>\n",
       "      <th>sixth</th>\n",
       "    </tr>\n",
       "  </thead>\n",
       "  <tbody>\n",
       "    <tr>\n",
       "      <th>0</th>\n",
       "      <td>10.0</td>\n",
       "      <td>100.0</td>\n",
       "      <td>200</td>\n",
       "      <td>NaN</td>\n",
       "      <td>400.0</td>\n",
       "      <td>500</td>\n",
       "    </tr>\n",
       "    <tr>\n",
       "      <th>1</th>\n",
       "      <td>11.0</td>\n",
       "      <td>102.0</td>\n",
       "      <td>203</td>\n",
       "      <td>305.0</td>\n",
       "      <td>410.0</td>\n",
       "      <td>505</td>\n",
       "    </tr>\n",
       "    <tr>\n",
       "      <th>2</th>\n",
       "      <td>NaN</td>\n",
       "      <td>104.0</td>\n",
       "      <td>210</td>\n",
       "      <td>308.0</td>\n",
       "      <td>414.0</td>\n",
       "      <td>514</td>\n",
       "    </tr>\n",
       "    <tr>\n",
       "      <th>3</th>\n",
       "      <td>13.0</td>\n",
       "      <td>110.0</td>\n",
       "      <td>202</td>\n",
       "      <td>313.0</td>\n",
       "      <td>NaN</td>\n",
       "      <td>520</td>\n",
       "    </tr>\n",
       "    <tr>\n",
       "      <th>4</th>\n",
       "      <td>12.0</td>\n",
       "      <td>NaN</td>\n",
       "      <td>207</td>\n",
       "      <td>300.0</td>\n",
       "      <td>400.0</td>\n",
       "      <td>500</td>\n",
       "    </tr>\n",
       "    <tr>\n",
       "      <th>5</th>\n",
       "      <td>15.0</td>\n",
       "      <td>100.0</td>\n",
       "      <td>210</td>\n",
       "      <td>305.0</td>\n",
       "      <td>408.0</td>\n",
       "      <td>520</td>\n",
       "    </tr>\n",
       "    <tr>\n",
       "      <th>6</th>\n",
       "      <td>20.0</td>\n",
       "      <td>118.0</td>\n",
       "      <td>212</td>\n",
       "      <td>325.0</td>\n",
       "      <td>417.0</td>\n",
       "      <td>535</td>\n",
       "    </tr>\n",
       "    <tr>\n",
       "      <th>7</th>\n",
       "      <td>21.0</td>\n",
       "      <td>121.0</td>\n",
       "      <td>222</td>\n",
       "      <td>333.0</td>\n",
       "      <td>444.0</td>\n",
       "      <td>555</td>\n",
       "    </tr>\n",
       "    <tr>\n",
       "      <th>8</th>\n",
       "      <td>20.0</td>\n",
       "      <td>118.0</td>\n",
       "      <td>212</td>\n",
       "      <td>325.0</td>\n",
       "      <td>417.0</td>\n",
       "      <td>535</td>\n",
       "    </tr>\n",
       "    <tr>\n",
       "      <th>9</th>\n",
       "      <td>21.0</td>\n",
       "      <td>121.0</td>\n",
       "      <td>222</td>\n",
       "      <td>333.0</td>\n",
       "      <td>444.0</td>\n",
       "      <td>555</td>\n",
       "    </tr>\n",
       "  </tbody>\n",
       "</table>\n",
       "</div>"
      ],
      "text/plain": [
       "   first  second  third  fourth  fifth  sixth\n",
       "0   10.0   100.0    200     NaN  400.0    500\n",
       "1   11.0   102.0    203   305.0  410.0    505\n",
       "2    NaN   104.0    210   308.0  414.0    514\n",
       "3   13.0   110.0    202   313.0    NaN    520\n",
       "4   12.0     NaN    207   300.0  400.0    500\n",
       "5   15.0   100.0    210   305.0  408.0    520\n",
       "6   20.0   118.0    212   325.0  417.0    535\n",
       "7   21.0   121.0    222   333.0  444.0    555\n",
       "8   20.0   118.0    212   325.0  417.0    535\n",
       "9   21.0   121.0    222   333.0  444.0    555"
      ]
     },
     "execution_count": 27,
     "metadata": {},
     "output_type": "execute_result"
    }
   ],
   "source": [
    "# 2. Fit the numerical data to Imputer\n",
    "from sklearn.impute import SimpleImputer\n",
    "\n",
    "imputer = SimpleImputer(strategy=\"median\")\n",
    "imputer.fit(dfnew)\n",
    "dfnew"
   ]
  },
  {
   "cell_type": "code",
   "execution_count": 28,
   "id": "ab36afad",
   "metadata": {
    "execution": {
     "iopub.execute_input": "2022-09-23T18:49:27.294187Z",
     "iopub.status.busy": "2022-09-23T18:49:27.293787Z",
     "iopub.status.idle": "2022-09-23T18:49:27.313128Z",
     "shell.execute_reply": "2022-09-23T18:49:27.312365Z"
    },
    "papermill": {
     "duration": 0.039758,
     "end_time": "2022-09-23T18:49:27.315088",
     "exception": false,
     "start_time": "2022-09-23T18:49:27.275330",
     "status": "completed"
    },
    "tags": []
   },
   "outputs": [
    {
     "data": {
      "text/html": [
       "<div>\n",
       "<style scoped>\n",
       "    .dataframe tbody tr th:only-of-type {\n",
       "        vertical-align: middle;\n",
       "    }\n",
       "\n",
       "    .dataframe tbody tr th {\n",
       "        vertical-align: top;\n",
       "    }\n",
       "\n",
       "    .dataframe thead th {\n",
       "        text-align: right;\n",
       "    }\n",
       "</style>\n",
       "<table border=\"1\" class=\"dataframe\">\n",
       "  <thead>\n",
       "    <tr style=\"text-align: right;\">\n",
       "      <th></th>\n",
       "      <th>first</th>\n",
       "      <th>second</th>\n",
       "      <th>third</th>\n",
       "      <th>fourth</th>\n",
       "      <th>fifth</th>\n",
       "      <th>sixth</th>\n",
       "    </tr>\n",
       "  </thead>\n",
       "  <tbody>\n",
       "    <tr>\n",
       "      <th>0</th>\n",
       "      <td>10.0</td>\n",
       "      <td>100.0</td>\n",
       "      <td>200.0</td>\n",
       "      <td>313.0</td>\n",
       "      <td>400.0</td>\n",
       "      <td>500.0</td>\n",
       "    </tr>\n",
       "    <tr>\n",
       "      <th>1</th>\n",
       "      <td>11.0</td>\n",
       "      <td>102.0</td>\n",
       "      <td>203.0</td>\n",
       "      <td>305.0</td>\n",
       "      <td>410.0</td>\n",
       "      <td>505.0</td>\n",
       "    </tr>\n",
       "    <tr>\n",
       "      <th>2</th>\n",
       "      <td>15.0</td>\n",
       "      <td>104.0</td>\n",
       "      <td>210.0</td>\n",
       "      <td>308.0</td>\n",
       "      <td>414.0</td>\n",
       "      <td>514.0</td>\n",
       "    </tr>\n",
       "    <tr>\n",
       "      <th>3</th>\n",
       "      <td>13.0</td>\n",
       "      <td>110.0</td>\n",
       "      <td>202.0</td>\n",
       "      <td>313.0</td>\n",
       "      <td>414.0</td>\n",
       "      <td>520.0</td>\n",
       "    </tr>\n",
       "    <tr>\n",
       "      <th>4</th>\n",
       "      <td>12.0</td>\n",
       "      <td>110.0</td>\n",
       "      <td>207.0</td>\n",
       "      <td>300.0</td>\n",
       "      <td>400.0</td>\n",
       "      <td>500.0</td>\n",
       "    </tr>\n",
       "    <tr>\n",
       "      <th>5</th>\n",
       "      <td>15.0</td>\n",
       "      <td>100.0</td>\n",
       "      <td>210.0</td>\n",
       "      <td>305.0</td>\n",
       "      <td>408.0</td>\n",
       "      <td>520.0</td>\n",
       "    </tr>\n",
       "    <tr>\n",
       "      <th>6</th>\n",
       "      <td>20.0</td>\n",
       "      <td>118.0</td>\n",
       "      <td>212.0</td>\n",
       "      <td>325.0</td>\n",
       "      <td>417.0</td>\n",
       "      <td>535.0</td>\n",
       "    </tr>\n",
       "    <tr>\n",
       "      <th>7</th>\n",
       "      <td>21.0</td>\n",
       "      <td>121.0</td>\n",
       "      <td>222.0</td>\n",
       "      <td>333.0</td>\n",
       "      <td>444.0</td>\n",
       "      <td>555.0</td>\n",
       "    </tr>\n",
       "    <tr>\n",
       "      <th>8</th>\n",
       "      <td>20.0</td>\n",
       "      <td>118.0</td>\n",
       "      <td>212.0</td>\n",
       "      <td>325.0</td>\n",
       "      <td>417.0</td>\n",
       "      <td>535.0</td>\n",
       "    </tr>\n",
       "    <tr>\n",
       "      <th>9</th>\n",
       "      <td>21.0</td>\n",
       "      <td>121.0</td>\n",
       "      <td>222.0</td>\n",
       "      <td>333.0</td>\n",
       "      <td>444.0</td>\n",
       "      <td>555.0</td>\n",
       "    </tr>\n",
       "  </tbody>\n",
       "</table>\n",
       "</div>"
      ],
      "text/plain": [
       "   first  second  third  fourth  fifth  sixth\n",
       "0   10.0   100.0  200.0   313.0  400.0  500.0\n",
       "1   11.0   102.0  203.0   305.0  410.0  505.0\n",
       "2   15.0   104.0  210.0   308.0  414.0  514.0\n",
       "3   13.0   110.0  202.0   313.0  414.0  520.0\n",
       "4   12.0   110.0  207.0   300.0  400.0  500.0\n",
       "5   15.0   100.0  210.0   305.0  408.0  520.0\n",
       "6   20.0   118.0  212.0   325.0  417.0  535.0\n",
       "7   21.0   121.0  222.0   333.0  444.0  555.0\n",
       "8   20.0   118.0  212.0   325.0  417.0  535.0\n",
       "9   21.0   121.0  222.0   333.0  444.0  555.0"
      ]
     },
     "execution_count": 28,
     "metadata": {},
     "output_type": "execute_result"
    }
   ],
   "source": [
    "# 3.\n",
    "X = imputer.transform(dfnew)\n",
    "dfnew_tr = pd.DataFrame(X, columns=dfnew.columns, index=dfnew.index)\n",
    "dfnew_tr"
   ]
  },
  {
   "cell_type": "markdown",
   "id": "6ea76b78",
   "metadata": {
    "papermill": {
     "duration": 0.017395,
     "end_time": "2022-09-23T18:49:27.350263",
     "exception": false,
     "start_time": "2022-09-23T18:49:27.332868",
     "status": "completed"
    },
    "tags": []
   },
   "source": [
    "## 3. Handling inappropriate Attributes\n",
    "- Check whether our data set has been imported as we would expect. \n",
    "- A simple check is to see if the data types (or dtypes) have been correctly interpreted."
   ]
  },
  {
   "cell_type": "code",
   "execution_count": 29,
   "id": "4c019484",
   "metadata": {
    "execution": {
     "iopub.execute_input": "2022-09-23T18:49:27.387055Z",
     "iopub.status.busy": "2022-09-23T18:49:27.386200Z",
     "iopub.status.idle": "2022-09-23T18:49:27.423602Z",
     "shell.execute_reply": "2022-09-23T18:49:27.422219Z"
    },
    "papermill": {
     "duration": 0.058614,
     "end_time": "2022-09-23T18:49:27.425988",
     "exception": false,
     "start_time": "2022-09-23T18:49:27.367374",
     "status": "completed"
    },
    "tags": []
   },
   "outputs": [
    {
     "name": "stdout",
     "output_type": "stream",
     "text": [
      "25500\n",
      "\n"
     ]
    },
    {
     "data": {
      "text/html": [
       "<div>\n",
       "<style scoped>\n",
       "    .dataframe tbody tr th:only-of-type {\n",
       "        vertical-align: middle;\n",
       "    }\n",
       "\n",
       "    .dataframe tbody tr th {\n",
       "        vertical-align: top;\n",
       "    }\n",
       "\n",
       "    .dataframe thead th {\n",
       "        text-align: right;\n",
       "    }\n",
       "</style>\n",
       "<table border=\"1\" class=\"dataframe\">\n",
       "  <thead>\n",
       "    <tr style=\"text-align: right;\">\n",
       "      <th></th>\n",
       "      <th>year</th>\n",
       "      <th>rank</th>\n",
       "      <th>company</th>\n",
       "      <th>revenue</th>\n",
       "      <th>profit</th>\n",
       "    </tr>\n",
       "  </thead>\n",
       "  <tbody>\n",
       "    <tr>\n",
       "      <th>0</th>\n",
       "      <td>1955</td>\n",
       "      <td>1</td>\n",
       "      <td>General Motors</td>\n",
       "      <td>9823.5</td>\n",
       "      <td>806</td>\n",
       "    </tr>\n",
       "    <tr>\n",
       "      <th>1</th>\n",
       "      <td>1955</td>\n",
       "      <td>2</td>\n",
       "      <td>Exxon Mobil</td>\n",
       "      <td>5661.4</td>\n",
       "      <td>584.8</td>\n",
       "    </tr>\n",
       "  </tbody>\n",
       "</table>\n",
       "</div>"
      ],
      "text/plain": [
       "   year  rank         company  revenue profit\n",
       "0  1955     1  General Motors   9823.5    806\n",
       "1  1955     2     Exxon Mobil   5661.4  584.8"
      ]
     },
     "execution_count": 29,
     "metadata": {},
     "output_type": "execute_result"
    }
   ],
   "source": [
    "df = pd.read_csv('../input/fortune500-19552005/fortune500.csv')\n",
    "print(len(df))\n",
    "print()\n",
    "df.columns = ['year', 'rank', 'company', 'revenue', 'profit']\n",
    "df.head(2)"
   ]
  },
  {
   "cell_type": "code",
   "execution_count": 30,
   "id": "9d3198f6",
   "metadata": {
    "execution": {
     "iopub.execute_input": "2022-09-23T18:49:27.464280Z",
     "iopub.status.busy": "2022-09-23T18:49:27.463893Z",
     "iopub.status.idle": "2022-09-23T18:49:27.471734Z",
     "shell.execute_reply": "2022-09-23T18:49:27.470696Z"
    },
    "papermill": {
     "duration": 0.029787,
     "end_time": "2022-09-23T18:49:27.474001",
     "exception": false,
     "start_time": "2022-09-23T18:49:27.444214",
     "status": "completed"
    },
    "tags": []
   },
   "outputs": [
    {
     "data": {
      "text/plain": [
       "year         int64\n",
       "rank         int64\n",
       "company     object\n",
       "revenue    float64\n",
       "profit      object\n",
       "dtype: object"
      ]
     },
     "execution_count": 30,
     "metadata": {},
     "output_type": "execute_result"
    }
   ],
   "source": [
    "df.dtypes"
   ]
  },
  {
   "cell_type": "markdown",
   "id": "d219af48",
   "metadata": {
    "papermill": {
     "duration": 0.017596,
     "end_time": "2022-09-23T18:49:27.509823",
     "exception": false,
     "start_time": "2022-09-23T18:49:27.492227",
     "status": "completed"
    },
    "tags": []
   },
   "source": [
    "- There seems something wrong with the **profits** column.\n",
    "- We would expect it to be **float64** like the revenue column. \n",
    "- This indicates that it probably contains some non-integer values\n",
    "- So let's check it"
   ]
  },
  {
   "cell_type": "code",
   "execution_count": 31,
   "id": "3903fca6",
   "metadata": {
    "execution": {
     "iopub.execute_input": "2022-09-23T18:49:27.546130Z",
     "iopub.status.busy": "2022-09-23T18:49:27.545534Z",
     "iopub.status.idle": "2022-09-23T18:49:27.572055Z",
     "shell.execute_reply": "2022-09-23T18:49:27.570920Z"
    },
    "papermill": {
     "duration": 0.047173,
     "end_time": "2022-09-23T18:49:27.574273",
     "exception": false,
     "start_time": "2022-09-23T18:49:27.527100",
     "status": "completed"
    },
    "tags": []
   },
   "outputs": [
    {
     "data": {
      "text/html": [
       "<div>\n",
       "<style scoped>\n",
       "    .dataframe tbody tr th:only-of-type {\n",
       "        vertical-align: middle;\n",
       "    }\n",
       "\n",
       "    .dataframe tbody tr th {\n",
       "        vertical-align: top;\n",
       "    }\n",
       "\n",
       "    .dataframe thead th {\n",
       "        text-align: right;\n",
       "    }\n",
       "</style>\n",
       "<table border=\"1\" class=\"dataframe\">\n",
       "  <thead>\n",
       "    <tr style=\"text-align: right;\">\n",
       "      <th></th>\n",
       "      <th>year</th>\n",
       "      <th>rank</th>\n",
       "      <th>company</th>\n",
       "      <th>revenue</th>\n",
       "      <th>profit</th>\n",
       "    </tr>\n",
       "  </thead>\n",
       "  <tbody>\n",
       "    <tr>\n",
       "      <th>228</th>\n",
       "      <td>1955</td>\n",
       "      <td>229</td>\n",
       "      <td>Norton</td>\n",
       "      <td>135.0</td>\n",
       "      <td>N.A.</td>\n",
       "    </tr>\n",
       "    <tr>\n",
       "      <th>290</th>\n",
       "      <td>1955</td>\n",
       "      <td>291</td>\n",
       "      <td>Schlitz Brewing</td>\n",
       "      <td>100.0</td>\n",
       "      <td>N.A.</td>\n",
       "    </tr>\n",
       "    <tr>\n",
       "      <th>294</th>\n",
       "      <td>1955</td>\n",
       "      <td>295</td>\n",
       "      <td>Pacific Vegetable Oil</td>\n",
       "      <td>97.9</td>\n",
       "      <td>N.A.</td>\n",
       "    </tr>\n",
       "    <tr>\n",
       "      <th>296</th>\n",
       "      <td>1955</td>\n",
       "      <td>297</td>\n",
       "      <td>Liebmann Breweries</td>\n",
       "      <td>96.0</td>\n",
       "      <td>N.A.</td>\n",
       "    </tr>\n",
       "    <tr>\n",
       "      <th>352</th>\n",
       "      <td>1955</td>\n",
       "      <td>353</td>\n",
       "      <td>Minneapolis-Moline</td>\n",
       "      <td>77.4</td>\n",
       "      <td>N.A.</td>\n",
       "    </tr>\n",
       "  </tbody>\n",
       "</table>\n",
       "</div>"
      ],
      "text/plain": [
       "     year  rank                company  revenue profit\n",
       "228  1955   229                 Norton    135.0   N.A.\n",
       "290  1955   291        Schlitz Brewing    100.0   N.A.\n",
       "294  1955   295  Pacific Vegetable Oil     97.9   N.A.\n",
       "296  1955   297     Liebmann Breweries     96.0   N.A.\n",
       "352  1955   353     Minneapolis-Moline     77.4   N.A."
      ]
     },
     "execution_count": 31,
     "metadata": {},
     "output_type": "execute_result"
    }
   ],
   "source": [
    "non_numberic_profit = df.profit.str.contains('[^0-9.-]')\n",
    "df.loc[non_numberic_profit].head()"
   ]
  },
  {
   "cell_type": "code",
   "execution_count": 32,
   "id": "3c773677",
   "metadata": {
    "execution": {
     "iopub.execute_input": "2022-09-23T18:49:27.612285Z",
     "iopub.status.busy": "2022-09-23T18:49:27.611878Z",
     "iopub.status.idle": "2022-09-23T18:49:27.619192Z",
     "shell.execute_reply": "2022-09-23T18:49:27.618250Z"
    },
    "papermill": {
     "duration": 0.028806,
     "end_time": "2022-09-23T18:49:27.621325",
     "exception": false,
     "start_time": "2022-09-23T18:49:27.592519",
     "status": "completed"
    },
    "tags": []
   },
   "outputs": [
    {
     "data": {
      "text/plain": [
       "369"
      ]
     },
     "execution_count": 32,
     "metadata": {},
     "output_type": "execute_result"
    }
   ],
   "source": [
    "# How many values are strings instead of float64 in **porfit** column\n",
    "\n",
    "len(df.loc[non_numberic_profit])"
   ]
  },
  {
   "cell_type": "markdown",
   "id": "df5f003f",
   "metadata": {
    "papermill": {
     "duration": 0.017831,
     "end_time": "2022-09-23T18:49:27.657262",
     "exception": false,
     "start_time": "2022-09-23T18:49:27.639431",
     "status": "completed"
    },
    "tags": []
   },
   "source": [
    "- Just as we suspected! \n",
    "- Some of the values are strings (369 values), which have been used to indicate missing data."
   ]
  },
  {
   "cell_type": "code",
   "execution_count": 33,
   "id": "2e4d5fc2",
   "metadata": {
    "execution": {
     "iopub.execute_input": "2022-09-23T18:49:27.695619Z",
     "iopub.status.busy": "2022-09-23T18:49:27.695278Z",
     "iopub.status.idle": "2022-09-23T18:49:27.701309Z",
     "shell.execute_reply": "2022-09-23T18:49:27.700291Z"
    },
    "papermill": {
     "duration": 0.028034,
     "end_time": "2022-09-23T18:49:27.703416",
     "exception": false,
     "start_time": "2022-09-23T18:49:27.675382",
     "status": "completed"
    },
    "tags": []
   },
   "outputs": [
    {
     "data": {
      "text/plain": [
       "{'N.A.'}"
      ]
     },
     "execution_count": 33,
     "metadata": {},
     "output_type": "execute_result"
    }
   ],
   "source": [
    "set(df.profit[non_numberic_profit])"
   ]
  },
  {
   "cell_type": "markdown",
   "id": "0fb96785",
   "metadata": {
    "papermill": {
     "duration": 0.018448,
     "end_time": "2022-09-23T18:49:27.740036",
     "exception": false,
     "start_time": "2022-09-23T18:49:27.721588",
     "status": "completed"
    },
    "tags": []
   },
   "source": [
    "- It's a small fraction of our data set, though not completely inconsequential as it is still around 1.5%. \n",
    "- If rows containing N.A. are, roughly, uniformly distributed over the years, the easiest solution would just be to remove them. \n",
    "- So let's have a quick look at the distribution."
   ]
  },
  {
   "cell_type": "code",
   "execution_count": 34,
   "id": "4ac70f7a",
   "metadata": {
    "execution": {
     "iopub.execute_input": "2022-09-23T18:49:27.778326Z",
     "iopub.status.busy": "2022-09-23T18:49:27.777540Z",
     "iopub.status.idle": "2022-09-23T18:49:27.782239Z",
     "shell.execute_reply": "2022-09-23T18:49:27.781493Z"
    },
    "papermill": {
     "duration": 0.026255,
     "end_time": "2022-09-23T18:49:27.784345",
     "exception": false,
     "start_time": "2022-09-23T18:49:27.758090",
     "status": "completed"
    },
    "tags": []
   },
   "outputs": [],
   "source": [
    "#plt.hist?"
   ]
  },
  {
   "cell_type": "code",
   "execution_count": 35,
   "id": "54f239b2",
   "metadata": {
    "execution": {
     "iopub.execute_input": "2022-09-23T18:49:27.823085Z",
     "iopub.status.busy": "2022-09-23T18:49:27.821991Z",
     "iopub.status.idle": "2022-09-23T18:49:28.134955Z",
     "shell.execute_reply": "2022-09-23T18:49:28.133796Z"
    },
    "papermill": {
     "duration": 0.33458,
     "end_time": "2022-09-23T18:49:28.137045",
     "exception": false,
     "start_time": "2022-09-23T18:49:27.802465",
     "status": "completed"
    },
    "tags": []
   },
   "outputs": [
    {
     "data": {
      "image/png": "[encoded data removed]",
      "text/plain": [
       "<Figure size 432x288 with 1 Axes>"
      ]
     },
     "metadata": {
      "needs_background": "light"
     },
     "output_type": "display_data"
    }
   ],
   "source": [
    "plt.ylabel(\"Count of Non-Value Entries per year\")\n",
    "bin_sizes, _, _ = plt.hist(df.year[non_numberic_profit], bins=range(1955, 2006), \\\n",
    "                           color=['green'], alpha=0.6, rwidth=0.7)"
   ]
  },
  {
   "cell_type": "code",
   "execution_count": 36,
   "id": "f34820cb",
   "metadata": {
    "execution": {
     "iopub.execute_input": "2022-09-23T18:49:28.175859Z",
     "iopub.status.busy": "2022-09-23T18:49:28.175034Z",
     "iopub.status.idle": "2022-09-23T18:49:28.451396Z",
     "shell.execute_reply": "2022-09-23T18:49:28.450369Z"
    },
    "papermill": {
     "duration": 0.298237,
     "end_time": "2022-09-23T18:49:28.453793",
     "exception": false,
     "start_time": "2022-09-23T18:49:28.155556",
     "status": "completed"
    },
    "tags": []
   },
   "outputs": [
    {
     "data": {
      "image/png": "[encoded data removed]",
      "text/plain": [
       "<Figure size 432x288 with 1 Axes>"
      ]
     },
     "metadata": {
      "needs_background": "light"
     },
     "output_type": "display_data"
    }
   ],
   "source": [
    "plt.hist(df.year[non_numberic_profit], bins=range(1955, 2006), color=['green'], alpha=0.6, rwidth=0.7);"
   ]
  },
  {
   "cell_type": "markdown",
   "id": "78672f2e",
   "metadata": {
    "papermill": {
     "duration": 0.018419,
     "end_time": "2022-09-23T18:49:28.491601",
     "exception": false,
     "start_time": "2022-09-23T18:49:28.473182",
     "status": "completed"
    },
    "tags": []
   },
   "source": [
    "- we can see that the most invalid values in a single year is fewer than 25\n",
    "- there are 500 data points per year\n",
    "- Removing these values would account for less than 4% of the data for the worst years.\n",
    "- Indeed, other than a surge around the 90s, most years have fewer than half the missing values of the peak. \n",
    "- For our purposes, let's say this is acceptable and go ahead and remove these rows."
   ]
  },
  {
   "cell_type": "code",
   "execution_count": 37,
   "id": "391f67b8",
   "metadata": {
    "execution": {
     "iopub.execute_input": "2022-09-23T18:49:28.529510Z",
     "iopub.status.busy": "2022-09-23T18:49:28.529143Z",
     "iopub.status.idle": "2022-09-23T18:49:28.536426Z",
     "shell.execute_reply": "2022-09-23T18:49:28.535666Z"
    },
    "papermill": {
     "duration": 0.028886,
     "end_time": "2022-09-23T18:49:28.538442",
     "exception": false,
     "start_time": "2022-09-23T18:49:28.509556",
     "status": "completed"
    },
    "tags": []
   },
   "outputs": [],
   "source": [
    "df = df.loc[~non_numberic_profit]"
   ]
  },
  {
   "cell_type": "code",
   "execution_count": 38,
   "id": "56caae08",
   "metadata": {
    "execution": {
     "iopub.execute_input": "2022-09-23T18:49:28.577425Z",
     "iopub.status.busy": "2022-09-23T18:49:28.576658Z",
     "iopub.status.idle": "2022-09-23T18:49:28.583675Z",
     "shell.execute_reply": "2022-09-23T18:49:28.583035Z"
    },
    "papermill": {
     "duration": 0.028541,
     "end_time": "2022-09-23T18:49:28.585524",
     "exception": false,
     "start_time": "2022-09-23T18:49:28.556983",
     "status": "completed"
    },
    "tags": []
   },
   "outputs": [
    {
     "data": {
      "text/plain": [
       "year         int64\n",
       "rank         int64\n",
       "company     object\n",
       "revenue    float64\n",
       "profit      object\n",
       "dtype: object"
      ]
     },
     "execution_count": 38,
     "metadata": {},
     "output_type": "execute_result"
    }
   ],
   "source": [
    "df.dtypes"
   ]
  },
  {
   "cell_type": "code",
   "execution_count": 39,
   "id": "536b3039",
   "metadata": {
    "execution": {
     "iopub.execute_input": "2022-09-23T18:49:28.624834Z",
     "iopub.status.busy": "2022-09-23T18:49:28.624154Z",
     "iopub.status.idle": "2022-09-23T18:49:28.988692Z",
     "shell.execute_reply": "2022-09-23T18:49:28.987590Z"
    },
    "papermill": {
     "duration": 0.386873,
     "end_time": "2022-09-23T18:49:28.991348",
     "exception": false,
     "start_time": "2022-09-23T18:49:28.604475",
     "status": "completed"
    },
    "tags": []
   },
   "outputs": [],
   "source": [
    "df.profit = df.profit.apply(pd.to_numeric)"
   ]
  },
  {
   "cell_type": "code",
   "execution_count": 40,
   "id": "d98b8b3d",
   "metadata": {
    "execution": {
     "iopub.execute_input": "2022-09-23T18:49:29.030888Z",
     "iopub.status.busy": "2022-09-23T18:49:29.030466Z",
     "iopub.status.idle": "2022-09-23T18:49:29.036951Z",
     "shell.execute_reply": "2022-09-23T18:49:29.035955Z"
    },
    "papermill": {
     "duration": 0.028627,
     "end_time": "2022-09-23T18:49:29.039120",
     "exception": false,
     "start_time": "2022-09-23T18:49:29.010493",
     "status": "completed"
    },
    "tags": []
   },
   "outputs": [
    {
     "data": {
      "text/plain": [
       "25131"
      ]
     },
     "execution_count": 40,
     "metadata": {},
     "output_type": "execute_result"
    }
   ],
   "source": [
    "# check the work\n",
    "len(df)"
   ]
  },
  {
   "cell_type": "code",
   "execution_count": 41,
   "id": "a361e90e",
   "metadata": {
    "execution": {
     "iopub.execute_input": "2022-09-23T18:49:29.078051Z",
     "iopub.status.busy": "2022-09-23T18:49:29.077066Z",
     "iopub.status.idle": "2022-09-23T18:49:29.084813Z",
     "shell.execute_reply": "2022-09-23T18:49:29.083896Z"
    },
    "papermill": {
     "duration": 0.02913,
     "end_time": "2022-09-23T18:49:29.086807",
     "exception": false,
     "start_time": "2022-09-23T18:49:29.057677",
     "status": "completed"
    },
    "tags": []
   },
   "outputs": [
    {
     "data": {
      "text/plain": [
       "year         int64\n",
       "rank         int64\n",
       "company     object\n",
       "revenue    float64\n",
       "profit     float64\n",
       "dtype: object"
      ]
     },
     "execution_count": 41,
     "metadata": {},
     "output_type": "execute_result"
    }
   ],
   "source": [
    "df.dtypes"
   ]
  },
  {
   "cell_type": "markdown",
   "id": "a86dc133",
   "metadata": {
    "papermill": {
     "duration": 0.018169,
     "end_time": "2022-09-23T18:49:29.123568",
     "exception": false,
     "start_time": "2022-09-23T18:49:29.105399",
     "status": "completed"
    },
    "tags": []
   },
   "source": [
    "- data type for profit is float now"
   ]
  },
  {
   "cell_type": "markdown",
   "id": "6f6fb6af",
   "metadata": {
    "papermill": {
     "duration": 0.018203,
     "end_time": "2022-09-23T18:49:29.160517",
     "exception": false,
     "start_time": "2022-09-23T18:49:29.142314",
     "status": "completed"
    },
    "tags": []
   },
   "source": [
    "## 4. Drop duplicate samples from the given dataset"
   ]
  },
  {
   "cell_type": "code",
   "execution_count": 42,
   "id": "cf5a0d1d",
   "metadata": {
    "execution": {
     "iopub.execute_input": "2022-09-23T18:49:29.199559Z",
     "iopub.status.busy": "2022-09-23T18:49:29.198765Z",
     "iopub.status.idle": "2022-09-23T18:49:29.215604Z",
     "shell.execute_reply": "2022-09-23T18:49:29.214904Z"
    },
    "papermill": {
     "duration": 0.038503,
     "end_time": "2022-09-23T18:49:29.217507",
     "exception": false,
     "start_time": "2022-09-23T18:49:29.179004",
     "status": "completed"
    },
    "tags": []
   },
   "outputs": [
    {
     "data": {
      "text/html": [
       "<div>\n",
       "<style scoped>\n",
       "    .dataframe tbody tr th:only-of-type {\n",
       "        vertical-align: middle;\n",
       "    }\n",
       "\n",
       "    .dataframe tbody tr th {\n",
       "        vertical-align: top;\n",
       "    }\n",
       "\n",
       "    .dataframe thead th {\n",
       "        text-align: right;\n",
       "    }\n",
       "</style>\n",
       "<table border=\"1\" class=\"dataframe\">\n",
       "  <thead>\n",
       "    <tr style=\"text-align: right;\">\n",
       "      <th></th>\n",
       "      <th>first</th>\n",
       "      <th>second</th>\n",
       "      <th>third</th>\n",
       "      <th>fourth</th>\n",
       "      <th>fifth</th>\n",
       "      <th>sixth</th>\n",
       "    </tr>\n",
       "  </thead>\n",
       "  <tbody>\n",
       "    <tr>\n",
       "      <th>0</th>\n",
       "      <td>10.0</td>\n",
       "      <td>100.0</td>\n",
       "      <td>200</td>\n",
       "      <td>NaN</td>\n",
       "      <td>400.0</td>\n",
       "      <td>500</td>\n",
       "    </tr>\n",
       "    <tr>\n",
       "      <th>1</th>\n",
       "      <td>11.0</td>\n",
       "      <td>102.0</td>\n",
       "      <td>203</td>\n",
       "      <td>305.0</td>\n",
       "      <td>410.0</td>\n",
       "      <td>505</td>\n",
       "    </tr>\n",
       "    <tr>\n",
       "      <th>2</th>\n",
       "      <td>NaN</td>\n",
       "      <td>104.0</td>\n",
       "      <td>210</td>\n",
       "      <td>308.0</td>\n",
       "      <td>414.0</td>\n",
       "      <td>514</td>\n",
       "    </tr>\n",
       "    <tr>\n",
       "      <th>3</th>\n",
       "      <td>13.0</td>\n",
       "      <td>110.0</td>\n",
       "      <td>202</td>\n",
       "      <td>313.0</td>\n",
       "      <td>NaN</td>\n",
       "      <td>520</td>\n",
       "    </tr>\n",
       "    <tr>\n",
       "      <th>4</th>\n",
       "      <td>12.0</td>\n",
       "      <td>NaN</td>\n",
       "      <td>207</td>\n",
       "      <td>300.0</td>\n",
       "      <td>400.0</td>\n",
       "      <td>500</td>\n",
       "    </tr>\n",
       "    <tr>\n",
       "      <th>5</th>\n",
       "      <td>15.0</td>\n",
       "      <td>100.0</td>\n",
       "      <td>210</td>\n",
       "      <td>305.0</td>\n",
       "      <td>408.0</td>\n",
       "      <td>520</td>\n",
       "    </tr>\n",
       "    <tr>\n",
       "      <th>6</th>\n",
       "      <td>20.0</td>\n",
       "      <td>118.0</td>\n",
       "      <td>212</td>\n",
       "      <td>325.0</td>\n",
       "      <td>417.0</td>\n",
       "      <td>535</td>\n",
       "    </tr>\n",
       "    <tr>\n",
       "      <th>7</th>\n",
       "      <td>21.0</td>\n",
       "      <td>121.0</td>\n",
       "      <td>222</td>\n",
       "      <td>333.0</td>\n",
       "      <td>444.0</td>\n",
       "      <td>555</td>\n",
       "    </tr>\n",
       "    <tr>\n",
       "      <th>8</th>\n",
       "      <td>20.0</td>\n",
       "      <td>118.0</td>\n",
       "      <td>212</td>\n",
       "      <td>325.0</td>\n",
       "      <td>417.0</td>\n",
       "      <td>535</td>\n",
       "    </tr>\n",
       "    <tr>\n",
       "      <th>9</th>\n",
       "      <td>21.0</td>\n",
       "      <td>121.0</td>\n",
       "      <td>222</td>\n",
       "      <td>333.0</td>\n",
       "      <td>444.0</td>\n",
       "      <td>555</td>\n",
       "    </tr>\n",
       "  </tbody>\n",
       "</table>\n",
       "</div>"
      ],
      "text/plain": [
       "   first  second  third  fourth  fifth  sixth\n",
       "0   10.0   100.0    200     NaN  400.0    500\n",
       "1   11.0   102.0    203   305.0  410.0    505\n",
       "2    NaN   104.0    210   308.0  414.0    514\n",
       "3   13.0   110.0    202   313.0    NaN    520\n",
       "4   12.0     NaN    207   300.0  400.0    500\n",
       "5   15.0   100.0    210   305.0  408.0    520\n",
       "6   20.0   118.0    212   325.0  417.0    535\n",
       "7   21.0   121.0    222   333.0  444.0    555\n",
       "8   20.0   118.0    212   325.0  417.0    535\n",
       "9   21.0   121.0    222   333.0  444.0    555"
      ]
     },
     "execution_count": 42,
     "metadata": {},
     "output_type": "execute_result"
    }
   ],
   "source": [
    "df = pd.read_csv('../input/lab06-demo-dataset/lab06_data.txt', sep=',')\n",
    "df"
   ]
  },
  {
   "cell_type": "code",
   "execution_count": 43,
   "id": "776bc3b5",
   "metadata": {
    "execution": {
     "iopub.execute_input": "2022-09-23T18:49:29.257270Z",
     "iopub.status.busy": "2022-09-23T18:49:29.256578Z",
     "iopub.status.idle": "2022-09-23T18:49:29.266666Z",
     "shell.execute_reply": "2022-09-23T18:49:29.265685Z"
    },
    "papermill": {
     "duration": 0.032345,
     "end_time": "2022-09-23T18:49:29.268698",
     "exception": false,
     "start_time": "2022-09-23T18:49:29.236353",
     "status": "completed"
    },
    "tags": []
   },
   "outputs": [
    {
     "data": {
      "text/plain": [
       "0    False\n",
       "1    False\n",
       "2    False\n",
       "3    False\n",
       "4    False\n",
       "5    False\n",
       "6    False\n",
       "7    False\n",
       "8     True\n",
       "9     True\n",
       "dtype: bool"
      ]
     },
     "execution_count": 43,
     "metadata": {},
     "output_type": "execute_result"
    }
   ],
   "source": [
    "df.duplicated()"
   ]
  },
  {
   "cell_type": "code",
   "execution_count": 44,
   "id": "b9b84f7b",
   "metadata": {
    "execution": {
     "iopub.execute_input": "2022-09-23T18:49:29.308275Z",
     "iopub.status.busy": "2022-09-23T18:49:29.307875Z",
     "iopub.status.idle": "2022-09-23T18:49:29.315597Z",
     "shell.execute_reply": "2022-09-23T18:49:29.314889Z"
    },
    "papermill": {
     "duration": 0.029656,
     "end_time": "2022-09-23T18:49:29.317573",
     "exception": false,
     "start_time": "2022-09-23T18:49:29.287917",
     "status": "completed"
    },
    "tags": []
   },
   "outputs": [
    {
     "data": {
      "text/plain": [
       "2"
      ]
     },
     "execution_count": 44,
     "metadata": {},
     "output_type": "execute_result"
    }
   ],
   "source": [
    "df.duplicated().sum()"
   ]
  },
  {
   "cell_type": "code",
   "execution_count": 45,
   "id": "915c167c",
   "metadata": {
    "execution": {
     "iopub.execute_input": "2022-09-23T18:49:29.357384Z",
     "iopub.status.busy": "2022-09-23T18:49:29.356961Z",
     "iopub.status.idle": "2022-09-23T18:49:29.373597Z",
     "shell.execute_reply": "2022-09-23T18:49:29.372559Z"
    },
    "papermill": {
     "duration": 0.039147,
     "end_time": "2022-09-23T18:49:29.375854",
     "exception": false,
     "start_time": "2022-09-23T18:49:29.336707",
     "status": "completed"
    },
    "tags": []
   },
   "outputs": [
    {
     "data": {
      "text/html": [
       "<div>\n",
       "<style scoped>\n",
       "    .dataframe tbody tr th:only-of-type {\n",
       "        vertical-align: middle;\n",
       "    }\n",
       "\n",
       "    .dataframe tbody tr th {\n",
       "        vertical-align: top;\n",
       "    }\n",
       "\n",
       "    .dataframe thead th {\n",
       "        text-align: right;\n",
       "    }\n",
       "</style>\n",
       "<table border=\"1\" class=\"dataframe\">\n",
       "  <thead>\n",
       "    <tr style=\"text-align: right;\">\n",
       "      <th></th>\n",
       "      <th>first</th>\n",
       "      <th>second</th>\n",
       "      <th>third</th>\n",
       "      <th>fourth</th>\n",
       "      <th>fifth</th>\n",
       "      <th>sixth</th>\n",
       "    </tr>\n",
       "  </thead>\n",
       "  <tbody>\n",
       "    <tr>\n",
       "      <th>0</th>\n",
       "      <td>10.0</td>\n",
       "      <td>100.0</td>\n",
       "      <td>200</td>\n",
       "      <td>NaN</td>\n",
       "      <td>400.0</td>\n",
       "      <td>500</td>\n",
       "    </tr>\n",
       "    <tr>\n",
       "      <th>1</th>\n",
       "      <td>11.0</td>\n",
       "      <td>102.0</td>\n",
       "      <td>203</td>\n",
       "      <td>305.0</td>\n",
       "      <td>410.0</td>\n",
       "      <td>505</td>\n",
       "    </tr>\n",
       "    <tr>\n",
       "      <th>2</th>\n",
       "      <td>NaN</td>\n",
       "      <td>104.0</td>\n",
       "      <td>210</td>\n",
       "      <td>308.0</td>\n",
       "      <td>414.0</td>\n",
       "      <td>514</td>\n",
       "    </tr>\n",
       "    <tr>\n",
       "      <th>3</th>\n",
       "      <td>13.0</td>\n",
       "      <td>110.0</td>\n",
       "      <td>202</td>\n",
       "      <td>313.0</td>\n",
       "      <td>NaN</td>\n",
       "      <td>520</td>\n",
       "    </tr>\n",
       "    <tr>\n",
       "      <th>4</th>\n",
       "      <td>12.0</td>\n",
       "      <td>NaN</td>\n",
       "      <td>207</td>\n",
       "      <td>300.0</td>\n",
       "      <td>400.0</td>\n",
       "      <td>500</td>\n",
       "    </tr>\n",
       "    <tr>\n",
       "      <th>5</th>\n",
       "      <td>15.0</td>\n",
       "      <td>100.0</td>\n",
       "      <td>210</td>\n",
       "      <td>305.0</td>\n",
       "      <td>408.0</td>\n",
       "      <td>520</td>\n",
       "    </tr>\n",
       "    <tr>\n",
       "      <th>6</th>\n",
       "      <td>20.0</td>\n",
       "      <td>118.0</td>\n",
       "      <td>212</td>\n",
       "      <td>325.0</td>\n",
       "      <td>417.0</td>\n",
       "      <td>535</td>\n",
       "    </tr>\n",
       "    <tr>\n",
       "      <th>7</th>\n",
       "      <td>21.0</td>\n",
       "      <td>121.0</td>\n",
       "      <td>222</td>\n",
       "      <td>333.0</td>\n",
       "      <td>444.0</td>\n",
       "      <td>555</td>\n",
       "    </tr>\n",
       "    <tr>\n",
       "      <th>8</th>\n",
       "      <td>20.0</td>\n",
       "      <td>118.0</td>\n",
       "      <td>212</td>\n",
       "      <td>325.0</td>\n",
       "      <td>417.0</td>\n",
       "      <td>535</td>\n",
       "    </tr>\n",
       "    <tr>\n",
       "      <th>9</th>\n",
       "      <td>21.0</td>\n",
       "      <td>121.0</td>\n",
       "      <td>222</td>\n",
       "      <td>333.0</td>\n",
       "      <td>444.0</td>\n",
       "      <td>555</td>\n",
       "    </tr>\n",
       "  </tbody>\n",
       "</table>\n",
       "</div>"
      ],
      "text/plain": [
       "   first  second  third  fourth  fifth  sixth\n",
       "0   10.0   100.0    200     NaN  400.0    500\n",
       "1   11.0   102.0    203   305.0  410.0    505\n",
       "2    NaN   104.0    210   308.0  414.0    514\n",
       "3   13.0   110.0    202   313.0    NaN    520\n",
       "4   12.0     NaN    207   300.0  400.0    500\n",
       "5   15.0   100.0    210   305.0  408.0    520\n",
       "6   20.0   118.0    212   325.0  417.0    535\n",
       "7   21.0   121.0    222   333.0  444.0    555\n",
       "8   20.0   118.0    212   325.0  417.0    535\n",
       "9   21.0   121.0    222   333.0  444.0    555"
      ]
     },
     "execution_count": 45,
     "metadata": {},
     "output_type": "execute_result"
    }
   ],
   "source": [
    "df.drop_duplicates()\n",
    "df"
   ]
  },
  {
   "cell_type": "markdown",
   "id": "b8e09e53",
   "metadata": {
    "papermill": {
     "duration": 0.019091,
     "end_time": "2022-09-23T18:49:29.416963",
     "exception": false,
     "start_time": "2022-09-23T18:49:29.397872",
     "status": "completed"
    },
    "tags": []
   },
   "source": [
    "## Ohhhhhh\n",
    "- The duplicate samples were not removed\n",
    "## ???"
   ]
  },
  {
   "cell_type": "code",
   "execution_count": 46,
   "id": "20e2b5c4",
   "metadata": {
    "execution": {
     "iopub.execute_input": "2022-09-23T18:49:29.457841Z",
     "iopub.status.busy": "2022-09-23T18:49:29.457219Z",
     "iopub.status.idle": "2022-09-23T18:49:29.472516Z",
     "shell.execute_reply": "2022-09-23T18:49:29.471444Z"
    },
    "papermill": {
     "duration": 0.038555,
     "end_time": "2022-09-23T18:49:29.474983",
     "exception": false,
     "start_time": "2022-09-23T18:49:29.436428",
     "status": "completed"
    },
    "tags": []
   },
   "outputs": [
    {
     "data": {
      "text/html": [
       "<div>\n",
       "<style scoped>\n",
       "    .dataframe tbody tr th:only-of-type {\n",
       "        vertical-align: middle;\n",
       "    }\n",
       "\n",
       "    .dataframe tbody tr th {\n",
       "        vertical-align: top;\n",
       "    }\n",
       "\n",
       "    .dataframe thead th {\n",
       "        text-align: right;\n",
       "    }\n",
       "</style>\n",
       "<table border=\"1\" class=\"dataframe\">\n",
       "  <thead>\n",
       "    <tr style=\"text-align: right;\">\n",
       "      <th></th>\n",
       "      <th>first</th>\n",
       "      <th>second</th>\n",
       "      <th>third</th>\n",
       "      <th>fourth</th>\n",
       "      <th>fifth</th>\n",
       "      <th>sixth</th>\n",
       "    </tr>\n",
       "  </thead>\n",
       "  <tbody>\n",
       "    <tr>\n",
       "      <th>0</th>\n",
       "      <td>10.0</td>\n",
       "      <td>100.0</td>\n",
       "      <td>200</td>\n",
       "      <td>NaN</td>\n",
       "      <td>400.0</td>\n",
       "      <td>500</td>\n",
       "    </tr>\n",
       "    <tr>\n",
       "      <th>1</th>\n",
       "      <td>11.0</td>\n",
       "      <td>102.0</td>\n",
       "      <td>203</td>\n",
       "      <td>305.0</td>\n",
       "      <td>410.0</td>\n",
       "      <td>505</td>\n",
       "    </tr>\n",
       "    <tr>\n",
       "      <th>2</th>\n",
       "      <td>NaN</td>\n",
       "      <td>104.0</td>\n",
       "      <td>210</td>\n",
       "      <td>308.0</td>\n",
       "      <td>414.0</td>\n",
       "      <td>514</td>\n",
       "    </tr>\n",
       "    <tr>\n",
       "      <th>3</th>\n",
       "      <td>13.0</td>\n",
       "      <td>110.0</td>\n",
       "      <td>202</td>\n",
       "      <td>313.0</td>\n",
       "      <td>NaN</td>\n",
       "      <td>520</td>\n",
       "    </tr>\n",
       "    <tr>\n",
       "      <th>4</th>\n",
       "      <td>12.0</td>\n",
       "      <td>NaN</td>\n",
       "      <td>207</td>\n",
       "      <td>300.0</td>\n",
       "      <td>400.0</td>\n",
       "      <td>500</td>\n",
       "    </tr>\n",
       "    <tr>\n",
       "      <th>5</th>\n",
       "      <td>15.0</td>\n",
       "      <td>100.0</td>\n",
       "      <td>210</td>\n",
       "      <td>305.0</td>\n",
       "      <td>408.0</td>\n",
       "      <td>520</td>\n",
       "    </tr>\n",
       "    <tr>\n",
       "      <th>6</th>\n",
       "      <td>20.0</td>\n",
       "      <td>118.0</td>\n",
       "      <td>212</td>\n",
       "      <td>325.0</td>\n",
       "      <td>417.0</td>\n",
       "      <td>535</td>\n",
       "    </tr>\n",
       "    <tr>\n",
       "      <th>7</th>\n",
       "      <td>21.0</td>\n",
       "      <td>121.0</td>\n",
       "      <td>222</td>\n",
       "      <td>333.0</td>\n",
       "      <td>444.0</td>\n",
       "      <td>555</td>\n",
       "    </tr>\n",
       "  </tbody>\n",
       "</table>\n",
       "</div>"
      ],
      "text/plain": [
       "   first  second  third  fourth  fifth  sixth\n",
       "0   10.0   100.0    200     NaN  400.0    500\n",
       "1   11.0   102.0    203   305.0  410.0    505\n",
       "2    NaN   104.0    210   308.0  414.0    514\n",
       "3   13.0   110.0    202   313.0    NaN    520\n",
       "4   12.0     NaN    207   300.0  400.0    500\n",
       "5   15.0   100.0    210   305.0  408.0    520\n",
       "6   20.0   118.0    212   325.0  417.0    535\n",
       "7   21.0   121.0    222   333.0  444.0    555"
      ]
     },
     "execution_count": 46,
     "metadata": {},
     "output_type": "execute_result"
    }
   ],
   "source": [
    "df.drop_duplicates(inplace=True)\n",
    "df"
   ]
  },
  {
   "cell_type": "code",
   "execution_count": 47,
   "id": "a7d5cd10",
   "metadata": {
    "execution": {
     "iopub.execute_input": "2022-09-23T18:49:29.516176Z",
     "iopub.status.busy": "2022-09-23T18:49:29.515819Z",
     "iopub.status.idle": "2022-09-23T18:49:29.521940Z",
     "shell.execute_reply": "2022-09-23T18:49:29.520871Z"
    },
    "papermill": {
     "duration": 0.029448,
     "end_time": "2022-09-23T18:49:29.524215",
     "exception": false,
     "start_time": "2022-09-23T18:49:29.494767",
     "status": "completed"
    },
    "tags": []
   },
   "outputs": [
    {
     "data": {
      "text/plain": [
       "8"
      ]
     },
     "execution_count": 47,
     "metadata": {},
     "output_type": "execute_result"
    }
   ],
   "source": [
    "len(df)"
   ]
  },
  {
   "cell_type": "markdown",
   "id": "98f2d05a",
   "metadata": {
    "papermill": {
     "duration": 0.019814,
     "end_time": "2022-09-23T18:49:29.563867",
     "exception": false,
     "start_time": "2022-09-23T18:49:29.544053",
     "status": "completed"
    },
    "tags": []
   },
   "source": [
    "## Tasks\n",
    "1. Do you know about any other method to handle missing values?\n",
    "2. How to perform data scaling?"
   ]
  }
 ],
 "metadata": {
  "kernelspec": {
   "display_name": "Python 3 (ipykernel)",
   "language": "python",
   "name": "python3"
  },
  "language_info": {
   "codemirror_mode": {
    "name": "ipython",
    "version": 3
   },
   "file_extension": ".py",
   "mimetype": "text/x-python",
   "name": "python",
   "nbconvert_exporter": "python",
   "pygments_lexer": "ipython3",
   "version": "3.10.9"
  },
  "papermill": {
   "default_parameters": {},
   "duration": 14.497119,
   "end_time": "2022-09-23T18:49:30.304682",
   "environment_variables": {},
   "exception": null,
   "input_path": "__notebook__.ipynb",
   "output_path": "__notebook__.ipynb",
   "parameters": {},
   "start_time": "2022-09-23T18:49:15.807563",
   "version": "2.3.4"
  }
 },
 "nbformat": 4,
 "nbformat_minor": 5
}
